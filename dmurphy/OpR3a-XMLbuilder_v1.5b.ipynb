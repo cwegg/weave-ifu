{
 "cells": [
  {
   "cell_type": "markdown",
   "metadata": {},
   "source": [
    "# XML Builder for OpR3a/b - V1.5\n",
    "\n",
    "### READ ME! \n",
    "As the SWG needs to generate a large number of pointings for OpR3a. The following code is designed to take the BlankXML template from Cambridge and populate the XML with the various values needed for OpR3a and write out XML catalogs that are compatible with WASP/OCS.\n",
    "\n",
    "\n",
    "Included is a GUI to set the appropriate PROGTEMP and OBSTEMP codes based on the programme and observation constraints you set.\n",
    "\n",
    "To make use of this notebooks full functionality, you will need to install [IPyWidgets](http://ipywidgets.readthedocs.io/en/stable/user_install.html). Please note the full installation instructions, including the requirement of [node.js](https://nodejs.org/en/) being installed on your machine *and* the command to run the Jupyter Lab extension.\n",
    "Note: This code *should* be compatible with both Python 2 and 3 (thanks to six.moves). However, this has not been tested.\n",
    "\n",
    "### Changelog\n",
    "* 1.3 - S3-ready, with updates to: moondist_min, sky_brightness and hour_angle_limits. Also added 30min OB PROGTEMP options.\n",
    "* 1.4b - BETA: OBSTEMP entries are no longer hard-coded (PROGTEMP in-progress). Added plate selection and hour_angle_limit selection slider under new \"misc options\" cell. Added action-linked OB length dropdown selection.\n",
    "* 1.5 - implementation of LIFU target generation, OBSTEMP radio buttons should now be ordered max -> min\n",
    "\n",
    "\n",
    "### Contributors\n",
    "* Kenneth Duncan (duncan@strw.leidenuniv.nl)\n",
    "* Edouard Bernard\n",
    "* David Murphy\n"
   ]
  },
  {
   "cell_type": "code",
   "execution_count": 1,
   "metadata": {},
   "outputs": [
    {
     "name": "stdout",
     "output_type": "stream",
     "text": [
      "OBSTEMP: CAAEB\n",
      "Max. Airmass: 1.3\n",
      "PROGTEMP: 11331\n"
     ]
    }
   ],
   "source": [
    "#!/usr/bin/env python\n",
    "import sys\n",
    "import os.path\n",
    "import numpy as np\n",
    "#from six import moves\n",
    "from six.moves import urllib\n",
    "from ifu import lifu\n",
    "\n",
    "import collections\n",
    "from astropy.io import fits\n",
    "from astropy import units as u\n",
    "from astropy.coordinates import SkyCoord\n",
    "from astropy.table import Table\n",
    "import xml.dom.minidom\n",
    "from xml.dom.minidom import Node\n",
    "\n",
    "def remove_xml_declaration(xml_text):\n",
    "    doc = xml.dom.minidom.parseString(xml_text)\n",
    "    root = doc.documentElement\n",
    "    xml_text_without_declaration = root.toxml(doc.encoding)\n",
    "    return xml_text_without_declaration\n",
    "\n",
    "def remove_empty_lines(xml_text):\n",
    "    reparsed = xml.dom.minidom.parseString(xml_text)\n",
    "    return '\\n'.join([line for line in reparsed.toprettyxml(indent=' ').split('\\n') if line.strip()])\n",
    "import tempgui as g\n",
    "from IPython.display import display\n",
    "\n"
   ]
  },
  {
   "cell_type": "markdown",
   "metadata": {},
   "source": [
    "____________\n",
    "# <span style=\"color:dodgerblue\">START HERE</span>"
   ]
  },
  {
   "cell_type": "markdown",
   "metadata": {},
   "source": [
    "## Set PROGTEMP Code\n",
    "\n",
    "__Run the cell below and then choose the desired programme constraints for this set of XML files.__ \n",
    "\n",
    "The corresponding PROGTEMP code is displayed in the lower right for reference. A variable, 'progtemp', is also set based on this code. If you change the buttons in this box, the variable will change accordingly.\n",
    "\n",
    "To do:\n",
    "- Extend OB Length and Exposure options to include all combinations being used in OpR3a"
   ]
  },
  {
   "cell_type": "code",
   "execution_count": 2,
   "metadata": {
    "scrolled": true
   },
   "outputs": [
    {
     "data": {
      "application/vnd.jupyter.widget-view+json": {
       "model_id": "fa7a3d5f37f443d5ae6fd671c320b5c9",
       "version_major": 2,
       "version_minor": 0
      },
      "text/plain": [
       "VkJveChjaGlsZHJlbj0oSEJveChjaGlsZHJlbj0oUmFkaW9CdXR0b25zKGRlc2NyaXB0aW9uPXUnSW5zdHJ1bWVudCBDb25maWd1cmF0aW9uOicsIGxheW91dD1MYXlvdXQod2lkdGg9dScxMDDigKY=\n"
      ]
     },
     "metadata": {},
     "output_type": "display_data"
    }
   ],
   "source": [
    "display(g.prog_controls)"
   ]
  },
  {
   "cell_type": "markdown",
   "metadata": {},
   "source": [
    "### Notes\n",
    "\n",
    "- Conte(X)tual OB actions: This component is entirely optional - XMLChecking will not fail if there is no X value in the PROGTEMP.\n",
    "\n",
    "|Survey | X | Action |\n",
    "|:--------------|:------|:--------|\n",
    "| StePS         |  Any  |Duplicate this OB the specified number of times (e.g. 11331.7 = duplicate this target configuration 7 times) |\n",
    "| SCIP           | <4 | Duplicate this OB the specified number of times. OBs must be time-linked to ensure <72 hrs between first and last |\n",
    "| IFUs (not LOFAR)|  3,5,7 | Initiate a dither sequence of 3, 5 or 7 pointings |\n",
    "| LOFAR          |   Any  | Duplicate this OB the specified number of times (e.g 61331.7 = duplicate this target configuration 7 times) |\n",
    "\n",
    "- Chain observations: If contextual action includes duplication of the OB (i.e. X > 1), setting 'Chain observations' == True will increase the (internal survey) priority on the subsequent OBs."
   ]
  },
  {
   "cell_type": "markdown",
   "metadata": {},
   "source": [
    "-----"
   ]
  },
  {
   "cell_type": "markdown",
   "metadata": {},
   "source": [
    "## Set OBSTEMP Code\n",
    "\n",
    "Run the cell below and then choose desired environmental constraints for this set of XML files. The corresponding OBSTEMP code is displayed in the lower right for reference. The variable 'obstemp' is also set based on this code. If you change the buttons in this box, the variable will change accordingly."
   ]
  },
  {
   "cell_type": "code",
   "execution_count": 3,
   "metadata": {},
   "outputs": [
    {
     "data": {
      "application/vnd.jupyter.widget-view+json": {
       "model_id": "62a94697d11442c1aa466031a782413b",
       "version_major": 2,
       "version_minor": 0
      },
      "text/plain": [
       "VkJveChjaGlsZHJlbj0oSEJveChjaGlsZHJlbj0oRmxvYXRTbGlkZXIodmFsdWU9MC45LCBkZXNjcmlwdGlvbj11J1NlZWluZyBNYXg6JywgbGF5b3V0PUxheW91dCh3aWR0aD11JzMwJScpLCDigKY=\n"
      ]
     },
     "metadata": {},
     "output_type": "display_data"
    }
   ],
   "source": [
    "display(g.obs_controls)"
   ]
  },
  {
   "cell_type": "markdown",
   "metadata": {},
   "source": [
    "To illustrate that these values are now stored:"
   ]
  },
  {
   "cell_type": "code",
   "execution_count": 4,
   "metadata": {},
   "outputs": [
    {
     "name": "stdout",
     "output_type": "stream",
     "text": [
      "The current PROGTEMP is: 11331\n",
      "And the current OBSTEMP is: CAAEB\n"
     ]
    }
   ],
   "source": [
    "print('The current PROGTEMP is: {0}{1}And the current OBSTEMP is: {2}'.format(g.progtemp, '\\n', g.obstemp))"
   ]
  },
  {
   "cell_type": "markdown",
   "metadata": {},
   "source": [
    "## Select misc. options:\n"
   ]
  },
  {
   "cell_type": "code",
   "execution_count": 5,
   "metadata": {},
   "outputs": [
    {
     "data": {
      "application/vnd.jupyter.widget-view+json": {
       "model_id": "bf233b312b274f2f95ad2a67c6b2df06",
       "version_major": 2,
       "version_minor": 0
      },
      "text/plain": [
       "VkJveChjaGlsZHJlbj0oSEJveChjaGlsZHJlbj0oVG9nZ2xlQnV0dG9ucyhkZXNjcmlwdGlvbj11J1BsYXRlOicsIG9wdGlvbnM9KCdQTEFURV9BJywgJ1BMQVRFX0InLCAnTElGVScpLCB2YWzigKY=\n"
      ]
     },
     "metadata": {},
     "output_type": "display_data"
    }
   ],
   "source": [
    "display(g.misc_controls)"
   ]
  },
  {
   "cell_type": "markdown",
   "metadata": {},
   "source": [
    "## Build OB XML file\n",
    "\n",
    "First, we get the latest version of the blank XML Template:"
   ]
  },
  {
   "cell_type": "code",
   "execution_count": 6,
   "metadata": {},
   "outputs": [],
   "source": [
    "try:\n",
    "    template_path = \"http://casu.ast.cam.ac.uk/~dmurphy/opr3/swg/resources/BlankXMLTemplate.xml\"\n",
    "    froot, fname = os.path.split(template_path)\n",
    "    xml_template, info = urllib.request.urlretrieve(template_path, fname)\n",
    "except:\n",
    "    raise SystemExit(\"Could not download XML template\")\n",
    "    #xml_template = \"/Users/david/Dropbox/CASU-WEAVE/ifu/tmp2/BlankXMLTemplate.xml\""
   ]
  },
  {
   "cell_type": "markdown",
   "metadata": {},
   "source": [
    "Parse in the XML template ready to fill and print version number for reference."
   ]
  },
  {
   "cell_type": "code",
   "execution_count": 7,
   "metadata": {},
   "outputs": [],
   "source": [
    "try:\n",
    "    dom = xml.dom.minidom.parse(xml_template)\n",
    "except xml.parsers.expat.ExpatError:\n",
    "    print(\"File {0} would not parse\".format(xml_template))\n",
    "\n",
    "root = dom.childNodes[0]\n",
    "\n",
    "programme = root.childNodes[3]\n",
    "observation = root.childNodes[5]\n",
    "\n",
    "# Get the main nodes we are going to fill ready for convenience:\n",
    "obsconstraints = dom.getElementsByTagName('obsconstraints')[0]\n",
    "configure = dom.getElementsByTagName('configure')[0]\n",
    "fields = dom.getElementsByTagName('fields')[0] \n",
    "field = fields.getElementsByTagName('field')[0]\n",
    "spectrograph = dom.getElementsByTagName('spectrograph')[0]\n",
    "surveys = observation.getElementsByTagName('surveys')[0]"
   ]
  },
  {
   "cell_type": "code",
   "execution_count": 8,
   "metadata": {},
   "outputs": [
    {
     "name": "stdout",
     "output_type": "stream",
     "text": [
      "XML Template Version: 1.10\n"
     ]
    }
   ],
   "source": [
    "print('XML Template Version: {0}'.format(dom.getElementsByTagName('root')[0].attributes['version'].value))"
   ]
  },
  {
   "cell_type": "markdown",
   "metadata": {},
   "source": [
    "## Set additional properties"
   ]
  },
  {
   "cell_type": "code",
   "execution_count": 9,
   "metadata": {},
   "outputs": [],
   "source": [
    "semester = 'S4'\n",
    "ob_class = 'science' # Or calibration?\n",
    "author = 'hess@astro.rug.nl'\n",
    "cc_report = 'jfalcon@iac.es,isa@ugr.es,dmurphy@ast.cam.ac.uk'\n",
    "report_verbosity = \"0\""
   ]
  },
  {
   "cell_type": "markdown",
   "metadata": {},
   "source": [
    "## Fill in fixed properties\n",
    "\n",
    "With the OBSTEMP and PROGTEMP properties (and their constituent attributes) set, we now fill in the XML file with these properties under that assumption that we are creating a group of similar OBs. The cell below therefore does not need changed."
   ]
  },
  {
   "cell_type": "code",
   "execution_count": 10,
   "metadata": {},
   "outputs": [],
   "source": [
    "root.setAttribute('author', author)\n",
    "root.setAttribute('cc_report', cc_report)\n",
    "root.setAttribute('report_verbosity', report_verbosity)\n",
    "\n",
    "\n",
    "observation.setAttribute('progtemp', value=g.progtemp)\n",
    "observation.setAttribute('obs_type', value=g.obstype)\n",
    "observation.setAttribute('ob_class', value=ob_class) \n",
    "observation.setAttribute('semester', value=semester)\n",
    "if g.progtemp[0] in ['1','2','3']:\n",
    "    observation.setAttribute('pa', value='0.0') #IFU module will write this for LIFU/mIFU\n",
    "\n",
    "if g.progtemp.endswith('+'):\n",
    "    observation.setAttribute('chained', value='True')\n",
    "else:\n",
    "    observation.setAttribute('chained', value='False')    \n",
    "observation.setAttribute('obsgroup', value='')\n",
    "\n",
    "redarm = spectrograph.getElementsByTagName('red_Arm')[0]\n",
    "redarm.setAttribute('resolution', value=g.resolution)\n",
    "redarm.setAttribute('binning_Y', value=g.I.value)\n",
    "redarm.setAttribute('VPH', value=g.red_vph)\n",
    "\n",
    "bluearm = spectrograph.getElementsByTagName('blue_Arm')[0]\n",
    "bluearm.setAttribute('resolution', value=g.resolution)\n",
    "bluearm.setAttribute('binning_Y', value=g.I.value)\n",
    "bluearm.setAttribute('VPH', value=g.blue_vph)\n",
    "\n",
    "obsconstraints.setAttribute('obstemp', value=g.obstemp)\n",
    "obsconstraints.setAttribute('seeing_max', value=str(g.seeing.value))\n",
    "obsconstraints.setAttribute('moondist_min', value=g.moon.label)\n",
    "obsconstraints.setAttribute('transparency_min', value=g.transparency.label)\n",
    "obsconstraints.setAttribute('elevation_min', value=g.elevation.label[:5])\n",
    "obsconstraints.setAttribute('skybright_max', value=g.skybright.label)\n",
    "\n",
    "ha_limits = configure.getElementsByTagName('hour_angle_limits')[0]\n",
    "ha_limits.setAttribute('earliest', str(g.hour_angle_range.value[0]))\n",
    "ha_limits.setAttribute('latest', str(g.hour_angle_range.value[1]))\n",
    "\n",
    "configure.setAttribute('plate', g.plate.value)"
   ]
  },
  {
   "cell_type": "markdown",
   "metadata": {},
   "source": [
    "Given the PROGTEMP, no create the correct number of exposures with the correct properties. The following cell should not be edited."
   ]
  },
  {
   "cell_type": "code",
   "execution_count": 11,
   "metadata": {},
   "outputs": [],
   "source": [
    "exposures = programme.getElementsByTagName('exposures')[0]\n",
    "exp_list = exposures.getElementsByTagName('exposure')\n",
    "\n",
    "science_exposure = exposures.childNodes[11].cloneNode(True)\n",
    "exposures.removeChild(exposures.childNodes[11])\n",
    "#print g.ORB\n",
    "#nexp, texp, arm = g.orb_vals[g.ORB.index]\n",
    "nexp, texp, arm = g.orb_vals[g.ORB.value]\n",
    "\n",
    "for i in range(nexp):\n",
    "    new_exposure = science_exposure.cloneNode(True)\n",
    "    new_exposure.setAttribute('order', value=str(3+i))\n",
    "    new_exposure.setAttribute('exp_time', value=str(texp))\n",
    "    new_exposure.setAttribute('arm', value=arm)\n",
    "    exposures.appendChild(new_exposure)\n",
    "\n",
    "\n",
    "exp_list[-2].setAttribute('order', value=str(3+i+1))\n",
    "exp_list[-1].setAttribute('order', value=str(3+i+1))\n",
    "\n",
    "# Reload exposure list, sort and replace\n",
    "exp_list = exposures.getElementsByTagName('exposure')\n",
    "exp_list.sort(key=lambda x: int(x.attributes['order'].value))\n",
    "exposures.childNodes = exp_list"
   ]
  },
  {
   "cell_type": "markdown",
   "metadata": {},
   "source": [
    "__Note:__ If you change PROGTEMP and wish to regenerate the XML files, you __must__ rerun all of the above sections so that the Exposure properties are set correctly.\n"
   ]
  },
  {
   "cell_type": "markdown",
   "metadata": {},
   "source": [
    "## Mimic Configure Information\n",
    "The following attributes should be filled by Configure. For now we spoof the values in order to pass WASP requirements for OpR3. The values below are likely all suitable as they are, with the possible exception of the plate which we may want to change later when generating many fields."
   ]
  },
  {
   "cell_type": "code",
   "execution_count": 12,
   "metadata": {},
   "outputs": [],
   "source": [
    "num_sky_fibres = \"10\"\n",
    "max_calibration = \"25\"\n",
    "max_guide = \"8\"  \n",
    "max_sky = \"100\"\n",
    "maximum_gate_angle = \"14.1\"\n",
    "config_file_version=\"0.0003\"\n",
    "configure_version = \"1.0.0046\"\n",
    "plate_version=\"test_0004\"\n",
    "seed = \"1\"\n",
    "\n",
    "if g.progtemp[0] in ['4','5','6']:\n",
    "    max_guide = \"1\""
   ]
  },
  {
   "cell_type": "code",
   "execution_count": 13,
   "metadata": {},
   "outputs": [],
   "source": [
    "configure.setAttribute('num_sky_fibres', num_sky_fibres)\n",
    "#configure.setAttribute('max_calibration', max_calibration) ##immutable, so doesn't really need to be assigned\n",
    "configure.setAttribute('max_guide', max_guide)  ##changed in Template v1.05\n",
    "#configure.setAttribute('max_sky', max_sky)  ##changed in Template v1.05\n",
    "#configure.setAttribute('maximum_gate_angle', maximum_gate_angle) ##immutable, so doesn't really need to be assigned\n",
    "configure.setAttribute('config_file_version', config_file_version) ##immutable, so doesn't really need to be assigned\n",
    "configure.setAttribute('configure_version', configure_version)\n",
    "configure.setAttribute('plate_version', plate_version) ##immutable, so doesn't really need to be assigned\n",
    "configure.setAttribute('seed', seed)"
   ]
  },
  {
   "cell_type": "code",
   "execution_count": 14,
   "metadata": {},
   "outputs": [],
   "source": [
    "conditions = configure.getElementsByTagName('conditions')[0]\n",
    "\n",
    "conditions.setAttribute('epoch', '2015.0')\n",
    "conditions.setAttribute('ha', '0')\n",
    "conditions.setAttribute('relative_humidity', '0.2')\n",
    "conditions.setAttribute('tlr', '0.0065')\n",
    "conditions.setAttribute('temperature', '293.0')\n",
    "conditions.setAttribute('pressure', '770.0')"
   ]
  },
  {
   "cell_type": "markdown",
   "metadata": {},
   "source": [
    "## Fill in 'Surveys' information:\n",
    "This is also likely to be the same for a block of OBs so initially I will just set an example and leave it for the user to edit as appropriate.\n",
    "\n",
    "To do:\n",
    "- Add 'targets_use' attribute that is also required by Configure"
   ]
  },
  {
   "cell_type": "code",
   "execution_count": 15,
   "metadata": {},
   "outputs": [
    {
     "data": {
      "text/plain": [
       "<DOM Element: survey at 0x7f19477b7638>"
      ]
     },
     "execution_count": 15,
     "metadata": {},
     "output_type": "execute_result"
    }
   ],
   "source": [
    "# Remove the existing blank survey node\n",
    "surveys.removeChild(surveys.childNodes[1])"
   ]
  },
  {
   "cell_type": "code",
   "execution_count": 16,
   "metadata": {},
   "outputs": [],
   "source": [
    "surveys_list = ['WA']\n",
    "max_fibres = [603]\n",
    "if g.progtemp[0] in ['1','2','3']:\n",
    "    #this is MOS, so use the same surveys etc as in v1.4\n",
    "    surveys_list = ['WEAVE_GA_LRhighl', 'WEAVE_WL', 'WEAVE_WQ']\n",
    "    max_fibres = [610, 219, 184]\n",
    "\n",
    "\n",
    "for ixs, survey in enumerate(surveys_list):\n",
    "    new_survey = dom.createElement(\"survey\")\n",
    "    new_survey.setAttribute('name', value=str(survey))\n",
    "    new_survey.setAttribute('priority', value=u'1.0')\n",
    "    new_survey.setAttribute('max_fibres', value=u'{0}'.format(max_fibres[ixs]))\n",
    "    surveys.appendChild(new_survey)"
   ]
  },
  {
   "cell_type": "markdown",
   "metadata": {},
   "source": [
    "## Complete field-specific information and save (for MOS):"
   ]
  },
  {
   "cell_type": "markdown",
   "metadata": {},
   "source": [
    "Finally, we need to fill in the properties that *are* specific to each field such as the Field coordinates, the OB name etc. Here I load in a list of fields as a catalog that contains the values i want to fill in.\n",
    "\n",
    "### <span style=\"color:dodgerblue\"> Modify these cells </span>"
   ]
  },
  {
   "cell_type": "code",
   "execution_count": 17,
   "metadata": {},
   "outputs": [],
   "source": [
    "#field_list = Table.read('/Users/ken/surfdrive/Astro/WEAVE/OpR3/Fields/Candidate/deepfields_list_v2.txt', format='ascii.commented_header', header_start=5)\n",
    "if g.progtemp[0] in ['1','2','3']:\n",
    "    #this is MOS - load the StePS file\n",
    "    field_list = Table.read('./StePSfields_list.txt',  format='ascii.ipac')\n",
    "else:    \n",
    "    field_list = []\n",
    "    "
   ]
  },
  {
   "cell_type": "code",
   "execution_count": 18,
   "metadata": {},
   "outputs": [
    {
     "name": "stdout",
     "output_type": "stream",
     "text": [
      "Writing to testob_1.xml\n",
      "Writing to testob_2.xml\n",
      "Writing to testob_3.xml\n",
      "Writing to testob_4.xml\n",
      "Writing to testob_5.xml\n"
     ]
    }
   ],
   "source": [
    "#for i, row in enumerate(field_list):\n",
    "for i, row in enumerate(field_list[:5]):\n",
    "    if not g.progtemp[0] in ['1','2','3']:\n",
    "        #ifu stuff, so don't do anything - just move on\n",
    "        continue\n",
    "    \n",
    "    \"\"\"\n",
    "    MANUAL PARAMETERS\n",
    "    (These values should be filled based on your input field list )\n",
    "    Set observation parameters:    \n",
    "    \"\"\" \n",
    "    ### Warning - When setting values from a table, be sure to wrap any floats/integers with str() ###\n",
    "    \n",
    "    observation.setAttribute('name', value=str(row['NAME'])) # OB Name\n",
    "    \n",
    "    field.setAttribute('RA_d', value=str(row['RA'])) # Field center RA in decimal degrees\n",
    "    field.setAttribute('Dec_d', value=str(row['DEC'])) # Field center Dec in decimal degrees\n",
    "    field.setAttribute('order', value='') # This attribute is not used for MOS (dithered IFU only)\n",
    "    \n",
    "    #field.setAttribute('pa', value='0.0') # Defined for IFU or set during configure?\n",
    "    \n",
    "    outxml = 'testob_{0}.xml'.format(row['NAME']) # Filename the new XML output\n",
    "    \n",
    "    \"\"\"\n",
    "    Now we parse the XML output using Edouard's functions to tidy up.\n",
    "    \"\"\"\n",
    "    \n",
    "    newxml = remove_empty_lines(dom.toprettyxml())\n",
    "    finalxml = remove_xml_declaration(newxml)\n",
    "    \n",
    "    \"\"\"\n",
    "    Finally, the filled XML file is saved to the output file set above.\n",
    "    \"\"\"\n",
    "    with open(outxml, 'w') as f:\n",
    "        print \"Writing to %s\"%(outxml)\n",
    "        f.write(finalxml)    "
   ]
  },
  {
   "cell_type": "markdown",
   "metadata": {},
   "source": [
    "## Complete field-specific information and save (for IFU):"
   ]
  },
  {
   "cell_type": "markdown",
   "metadata": {},
   "source": [
    "We now point to the input LIFU FITS catalogue to generate the targets.\n",
    "\n",
    "The target elements will inherit *most* of the input catalogue spaxel data, so the input catalogue must specify each spaxel for each dither for each pointing.\n",
    "\n",
    "The output filenames will be generated from the TARGID entries of the central spaxels\n",
    "\n",
    "### <span style=\"color:dodgerblue\"> Enter the path to your input FITS catalogue:</span>"
   ]
  },
  {
   "cell_type": "code",
   "execution_count": 19,
   "metadata": {},
   "outputs": [],
   "source": [
    "input_cat = './WA_FITS_catalogue_180523-132206ex2.fits'\n",
    "input_cat = './WA_FITS_catalogue_180608-143105ex2.fits'\n",
    "input_cat = './WA_S4.fits'"
   ]
  },
  {
   "cell_type": "code",
   "execution_count": 20,
   "metadata": {
    "scrolled": true
   },
   "outputs": [],
   "source": [
    "if g.progtemp[0] in ['4','5','6']:\n",
    "    #what resolution has the user specified?\n",
    "    res = 'LR'\n",
    "    if g.progtemp[0] != '4':\n",
    "        res = 'HR'\n",
    "    binning = g.progtemp[4]\n",
    "    #instantiate the class\n",
    "    ifu_data = lifu(input_cat,res=res,binning=binning)\n",
    "    #analyse the input catalogue and generate the \n",
    "    centrals,groups = ifu_data.get_central_spaxels(dither_group=True)\n",
    "    #connect the existing XML data to the lifu_data class\n",
    "    ifu_data.ingest_xml(dom)    \n",
    "    #generate all the OBs\n",
    "    ifu_data.generate()"
   ]
  },
  {
   "cell_type": "markdown",
   "metadata": {},
   "source": [
    "## Non-GUI OBSTEMP Codes:\n",
    "\n",
    "As the environmental constraints may vary within a set of target fields of the same type, it may be desirable to set the OBSTEMP and corresponding properties for each source in the loop. In that case, the following function generates an OBSTEMP code given some constraints:"
   ]
  },
  {
   "cell_type": "code",
   "execution_count": 21,
   "metadata": {},
   "outputs": [],
   "source": [
    "obstemp_source = g.getobstemp(seeing='1.1', moon='30', transparency='0.4', \n",
    "                              elevation='50.28', skybright='21.5') # Note the strings."
   ]
  },
  {
   "cell_type": "code",
   "execution_count": 22,
   "metadata": {},
   "outputs": [
    {
     "name": "stdout",
     "output_type": "stream",
     "text": [
      "EEADB\n"
     ]
    }
   ],
   "source": [
    "print(obstemp_source)"
   ]
  },
  {
   "cell_type": "code",
   "execution_count": null,
   "metadata": {},
   "outputs": [],
   "source": []
  },
  {
   "cell_type": "code",
   "execution_count": null,
   "metadata": {},
   "outputs": [],
   "source": []
  }
 ],
 "metadata": {
  "kernelspec": {
   "display_name": "Python 2",
   "language": "python",
   "name": "python2"
  },
  "language_info": {
   "codemirror_mode": {
    "name": "ipython",
    "version": 3
   },
   "file_extension": ".py",
   "mimetype": "text/x-python",
   "name": "python",
   "nbconvert_exporter": "python",
   "pygments_lexer": "ipython3",
   "version": "3.6.7"
  }
 },
 "nbformat": 4,
 "nbformat_minor": 2
}
