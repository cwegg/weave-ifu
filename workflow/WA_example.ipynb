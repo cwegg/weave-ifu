{
 "cells": [
  {
   "cell_type": "markdown",
   "metadata": {},
   "source": [
    "# Example of IFU workflow based on WEAVE-APERTIF\n",
    "\n",
    "This is a small example, akin to `TUTORIAL.md`. Please read that file (and `README`) for more details."
   ]
  },
  {
   "cell_type": "markdown",
   "metadata": {},
   "source": [
    "## Initialisation and dirty hacks\n",
    "\n",
    "To import the different steps, we must add the `ifu` directory (the parent of the `workflow` directory where this Notebook is supposed to live) to the Python path.\n",
    "\n",
    "*Disclaimer:* I have cheated in all but the very first step and used the shell commands in the tutorial rather than properly calling the Python functions. Even worse, I had to set the environment variable `PYTHONPATH` before every invocation, and even more worse than even worser, I just did it with the `export` command, assuming a `bash` Unix shell. I nominate my self for the *Quick and Dirty Hack of the Day Award* ;^D"
   ]
  },
  {
   "cell_type": "code",
   "execution_count": 36,
   "metadata": {},
   "outputs": [],
   "source": [
    "import os\n",
    "import sys\n",
    "import numpy as np\n",
    "from astropy.coordinates import SkyCoord, FK5, ICRS\n",
    "\n",
    "if '..' not in sys.path:\n",
    "    sys.path.append('..')\n",
    "    print(sys.path)"
   ]
  },
  {
   "cell_type": "markdown",
   "metadata": {},
   "source": [
    "We also specify the path to the `configure` tools (`configure` and `dither`) needed in stage 4.\n",
    "I consider that hard-coding it this way is peanuts in comparison to the above ;^D"
   ]
  },
  {
   "cell_type": "code",
   "execution_count": 8,
   "metadata": {},
   "outputs": [],
   "source": [
    "path_to_configure_tools = '../../configure_3.0.2/'"
   ]
  },
  {
   "cell_type": "markdown",
   "metadata": {},
   "source": [
    "Set the location of the template files and the output directory (create the latter if necessary):"
   ]
  },
  {
   "cell_type": "code",
   "execution_count": 9,
   "metadata": {},
   "outputs": [],
   "source": [
    "ifu_driver_template = os.path.join('aux', 'ifu_driver_template.fits')\n",
    "fits_catalogue_template = os.path.join('aux', 'WA_CatalogueTemplate.fits')\n",
    "\n",
    "output_dir = 'output'\n",
    "if not os.path.exists(output_dir):\n",
    "    os.makedirs(output_dir)"
   ]
  },
  {
   "cell_type": "markdown",
   "metadata": {},
   "source": [
    "## Stage 1: Creation of IFU driver catalogue (based on your input)"
   ]
  },
  {
   "cell_type": "markdown",
   "metadata": {},
   "source": [
    "Fill the trimester data, as well as the e-mail addresses of the IP and SWG members:"
   ]
  },
  {
   "cell_type": "code",
   "execution_count": 10,
   "metadata": {},
   "outputs": [],
   "source": [
    "survey = 'WA'\n",
    "trimester = '2020A1'\n",
    "PI_email = 'a@domain.com'\n",
    "PI_first_name = 'Name'\n",
    "PI_surname = 'Surname'\n",
    "report_verbosity = 1\n",
    "cc_report = 'b@domain.com,c@domain.com'"
   ]
  },
  {
   "cell_type": "markdown",
   "metadata": {},
   "source": [
    "Fill the data of the desired targets. For this example, we chose 4 WA galaxies:\n",
    "- HSB_HR is a high surface brightness galaxy, observed at high spectral resolution.\n",
    "- HSB_LR is the same galaxy at low spectral resolution.\n",
    "- LSB_LR is a low surface brightness galaxy at low spectral resolution.\n",
    "- BWT_LR is a bad weather target at low spectral resolution."
   ]
  },
  {
   "cell_type": "code",
   "execution_count": 40,
   "metadata": {},
   "outputs": [],
   "source": [
    "data_dict = {}\n",
    "\n",
    "data_dict['TARGSRVY'] = 3*[survey]\n",
    "data_dict['TARGPROG'] = ['WA_HR', 'WA_LR', 'WA_LR']\n",
    "\n",
    "data_dict['TARGID'] = ['HSB_HR', 'HSB_LR', 'ISB_LR']\n",
    "data_dict['TARGNAME'] = ['PSZ1_nameHSB', 'PSZ1_nameHSB', 'PSZ1_nameISB']\n",
    "\n",
    "data_dict['TARGPRIO'] = [10.0, 10.0, 10.0]\n",
    "\n",
    "data_dict['PROGTEMP'] = ['61331', '41331', '41331']\n",
    "\n",
    "data_dict['OBSTEMP'] = ['NBCEB', 'NBCEC', 'NBCEC']\n",
    "\n",
    "data_dict['GAIA_RA'] = [48.14007743, 48.14007743, 22.94501069]\n",
    "data_dict['GAIA_DEC'] = [39.31920434, 39.31920434, 38.71704016]\n",
    "\n",
    "data_dict['GAIA_PMRA'] = [np.nan, np.nan, np.nan]\n",
    "data_dict['GAIA_PMDEC'] = [np.nan, np.nan, np.nan]\n",
    "data_dict['GAIA_PARAL'] = [np.nan, np.nan, np.nan]\n",
    "\n",
    "data_dict['IFU_PA_REQUEST'] = [0.0, 0.0, 0.0]\n",
    "\n",
    "data_dict['IFU_DITHER'] = [3, 3, 3]"
   ]
  },
  {
   "cell_type": "markdown",
   "metadata": {},
   "source": [
    "Convert to ICRS, if necessary:"
   ]
  },
  {
   "cell_type": "code",
   "execution_count": 41,
   "metadata": {},
   "outputs": [],
   "source": [
    "necessary = True  # coordinates are actually J2000\n",
    "# necessary = False  # coordinates are already ICRS\n",
    "\n",
    "if necessary:\n",
    "    original_coords = SkyCoord(ra=data_dict['GAIA_RA'], dec=data_dict['GAIA_DEC'], unit='deg', frame=FK5(equinox='J2000'))\n",
    "    coords_Gaia = original_coords.transform_to(ICRS())\n",
    "    data_dict['GAIA_RA'] = coords_Gaia.ra.value\n",
    "    data_dict['GAIA_DEC'] = coords_Gaia.dec.value\n",
    "\n",
    "data_dict['GAIA_EPOCH'] = 3*['2015.5']"
   ]
  },
  {
   "cell_type": "markdown",
   "metadata": {},
   "source": [
    "And that's it. No more input is needed from the user.\n",
    "\n",
    "Simply"
   ]
  },
  {
   "cell_type": "code",
   "execution_count": 42,
   "metadata": {},
   "outputs": [
    {
     "data": {
      "text/plain": [
       "'output/WA_2020A1-ifu_driver_cat.fits'"
      ]
     },
     "execution_count": 42,
     "metadata": {},
     "output_type": "execute_result"
    }
   ],
   "source": [
    "from workflow.stage1 import create_ifu_driver_cat\n",
    "\n",
    "driver_catalog_filename = os.path.join(output_dir, '{}_{}-ifu_driver_cat.fits'.format(survey, trimester))\n",
    "\n",
    "create_ifu_driver_cat(ifu_driver_template, data_dict, driver_catalog_filename,\n",
    "                      trimester, PI_email, report_verbosity=report_verbosity,\n",
    "                      cc_report=cc_report, overwrite=True)"
   ]
  },
  {
   "cell_type": "markdown",
   "metadata": {},
   "source": [
    "and check the results:"
   ]
  },
  {
   "cell_type": "code",
   "execution_count": 43,
   "metadata": {},
   "outputs": [
    {
     "name": "stdout",
     "output_type": "stream",
     "text": [
      "INFO:root:output/WA_2020A1-ifu_driver_cat.fits has passed the checks\n"
     ]
    }
   ],
   "source": [
    "!export PYTHONPATH='..'; stage1/check_ifu_driver_cat.py $driver_catalog_filename"
   ]
  },
  {
   "cell_type": "code",
   "execution_count": 44,
   "metadata": {},
   "outputs": [
    {
     "name": "stdout",
     "output_type": "stream",
     "text": [
      "INFO:root:This plotting tool needs time. If you want to monitor its progress, see the directory which will contain its ouput images.\n"
     ]
    }
   ],
   "source": [
    "!export PYTHONPATH='..'; stage1/plot_ifu_driver_cat.py $driver_catalog_filename"
   ]
  },
  {
   "cell_type": "markdown",
   "metadata": {},
   "source": [
    "A few windows (one per target in `data_dict`) might pop up during the process. Check the images that are saved in the `output` directory."
   ]
  },
  {
   "cell_type": "markdown",
   "metadata": {},
   "source": [
    "## Stage 2: Creation of XML files for the targets in the catalog\n",
    "\n",
    "*Warning*: By default, old XML files will not be overwritten. Instead, new files will be created, continuing the numbering!\n",
    "\n",
    "This is usually not my intention, so I'll `rm output/*.xml`. Please skip or comment the following line if you would like to *append* the current driver catalogue to the existing target list."
   ]
  },
  {
   "cell_type": "code",
   "execution_count": 45,
   "metadata": {},
   "outputs": [],
   "source": [
    "xml_filename = os.path.join(output_dir, '{}_{}-*.xml'.format(survey, trimester))\n",
    "!rm $xml_filename"
   ]
  },
  {
   "cell_type": "code",
   "execution_count": 46,
   "metadata": {},
   "outputs": [
    {
     "name": "stdout",
     "output_type": "stream",
     "text": [
      "INFO:root:Reading output/WA_2020A1-ifu_driver_cat.fits\n",
      "INFO:root:Processing 3 non-custom dither OBs for LIFU\n",
      "INFO:root:\tWriting to output/WA_2020A1-lifu_01-t.xml\n",
      "INFO:root:\tWriting to output/WA_2020A1-lifu_02-t.xml\n",
      "INFO:root:\tWriting to output/WA_2020A1-lifu_03-t.xml\n",
      "INFO:root:Processing 0 custom dither OBs for LIFU\n",
      "INFO:root:Processing 0 mIFU fields into 0 OBs according to all mode\n"
     ]
    }
   ],
   "source": [
    "!export PYTHONPATH='..'; stage2/create_xml_files.py $driver_catalog_filename"
   ]
  },
  {
   "cell_type": "markdown",
   "metadata": {},
   "source": [
    "## Stage 3: Adding guide and calibration stars to the XML files"
   ]
  },
  {
   "cell_type": "code",
   "execution_count": 47,
   "metadata": {},
   "outputs": [
    {
     "name": "stdout",
     "output_type": "stream",
     "text": [
      "CRITICAL:root:Do not trust on the output of this code by now: This software is great, but the assumed position of the LIFU guide camera must be confirmed\n",
      "INFO:root:2207 guide stars have been retrieved for (48.14006650564287, 39.319206770154004)\n",
      "INFO:root:25 guide stars are useful for (48.14006650564287, 39.319206770154004)\n",
      "INFO:root:1 guide stars has been selected for (48.14006650564287, 39.319206770154004) PA = 3.3848654938826996 deg\n",
      "INFO:root:Notice that GAIA_DR value for the selected stars is GDR2\n",
      "INFO:root:Requested value for PA has NOT been adopted\n",
      "INFO:root:\tWriting to output/WA_2020A1-lifu_01-tgc.xml\n",
      "CRITICAL:root:Do not trust on the output of this code by now: This software is great, but the assumed position of the LIFU guide camera must be confirmed\n",
      "INFO:root:2207 guide stars have been retrieved for (48.14006650564287, 39.319206770154004)\n",
      "INFO:root:25 guide stars are useful for (48.14006650564287, 39.319206770154004)\n",
      "INFO:root:1 guide stars has been selected for (48.14006650564287, 39.319206770154004) PA = 3.3848654938826996 deg\n",
      "INFO:root:Notice that GAIA_DR value for the selected stars is GDR2\n",
      "INFO:root:Requested value for PA has NOT been adopted\n",
      "INFO:root:\tWriting to output/WA_2020A1-lifu_02-tgc.xml\n",
      "CRITICAL:root:Do not trust on the output of this code by now: This software is great, but the assumed position of the LIFU guide camera must be confirmed\n",
      "INFO:root:2479 guide stars have been retrieved for (22.944999458235756, 38.717039987211535)\n",
      "INFO:root:31 guide stars are useful for (22.944999458235756, 38.717039987211535)\n",
      "INFO:root:1 guide stars has been selected for (22.944999458235756, 38.717039987211535) PA = 0.0 deg\n",
      "INFO:root:Notice that GAIA_DR value for the selected stars is GDR2\n",
      "INFO:root:\tWriting to output/WA_2020A1-lifu_03-tgc.xml\n"
     ]
    }
   ],
   "source": [
    "xml_filename = os.path.join(output_dir, '{}_{}-*-t.xml'.format(survey, trimester))\n",
    "!export PYTHONPATH='..'; stage3/add_guide_and_calib_stars.py $xml_filename"
   ]
  },
  {
   "cell_type": "markdown",
   "metadata": {},
   "source": [
    "Now check the images `*tgc-guide_stars.png` in the `output` directory, which contain information about the guide stars and the final position angle adopted for the observation, which might not be the exactly the same as the requested PA."
   ]
  },
  {
   "cell_type": "markdown",
   "metadata": {},
   "source": [
    "## Stage 4: Configuring the XML files\n",
    "\n",
    "Now it is time to run the configure scripts."
   ]
  },
  {
   "cell_type": "code",
   "execution_count": 48,
   "metadata": {},
   "outputs": [
    {
     "name": "stdout",
     "output_type": "stream",
     "text": [
      "output/WA_2020A1-lifu_01-tgc.xml\n",
      "output/WA_2020A1-lifu_02-tgc.xml\n",
      "output/WA_2020A1-lifu_03-tgc.xml\n"
     ]
    }
   ],
   "source": [
    "configure_script = os.path.join(path_to_configure_tools, 'lifu_configure')\n",
    "dither_script = os.path.join(path_to_configure_tools, 'dither')\n",
    "\n",
    "from glob import glob\n",
    "\n",
    "xml_tgc_filename = os.path.join(output_dir, '{}_{}-*-tgc.xml'.format(survey, trimester))\n",
    "for filename in glob(xml_tgc_filename):\n",
    "    print(filename)\n",
    "    tmp_filename = filename[:-4]+'s-tmp-orig.xml'\n",
    "    new_filename = filename[:-4]+'s-orig.xml'\n",
    "    lint_filename = filename[:-4]+'s.xml'\n",
    "    !export PYTHONPATH='..'; $configure_script --epoch 2020 -i $filename -o $tmp_filename;\n",
    "    !export PYTHONPATH='..'; $dither_script -i $tmp_filename -o $new_filename\n",
    "    !xmllint --c14n $new_filename | xmllint --format --encode utf-8 --output $lint_filename -"
   ]
  },
  {
   "cell_type": "markdown",
   "metadata": {},
   "source": [
    "## Stage 5: Creation the IFU FITS catalogue"
   ]
  },
  {
   "cell_type": "code",
   "execution_count": 50,
   "metadata": {},
   "outputs": [],
   "source": [
    "xml_tgcs_filename = os.path.join(output_dir, '{}_{}-*-tgcs.xml'.format(survey, trimester))\n",
    "!export PYTHONPATH='..'; stage5/create_ifu_fits_cat.py $fits_catalogue_template $xml_tgcs_filename --cat_nme1 $PI_first_name --cat_nme2 $PI_surname --gaia_dr 2"
   ]
  },
  {
   "cell_type": "markdown",
   "metadata": {},
   "source": [
    "## Stage 6: Improving the IFU FITS catalogue (optional, but recommended)"
   ]
  },
  {
   "cell_type": "code",
   "execution_count": 56,
   "metadata": {},
   "outputs": [
    {
     "name": "stdout",
     "output_type": "stream",
     "text": [
      "INFO:root:Downloading PS1 broadmand imaging for output/WA_2020A1-ifu_from_xmls.fits\n",
      "INFO:root:HSB_HR: center=(48.1397468101801, 39.31896776337385); size=(0.15022935377384317 deg, 2163 pix)\n",
      "INFO:root:HSB_HR_g.fits already exists\n",
      "\u001b[0;33mWARNING\u001b[0m: FITSFixedWarning: PC001001= -1. \n",
      "this form of the PCi_ja keyword is deprecated, use PCi_ja. [astropy.wcs.wcs]\n",
      "WARNING:astropy:FITSFixedWarning: PC001001= -1. \n",
      "this form of the PCi_ja keyword is deprecated, use PCi_ja.\n",
      "\u001b[0;33mWARNING\u001b[0m: FITSFixedWarning: PC001002= 0. \n",
      "this form of the PCi_ja keyword is deprecated, use PCi_ja. [astropy.wcs.wcs]\n",
      "WARNING:astropy:FITSFixedWarning: PC001002= 0. \n",
      "this form of the PCi_ja keyword is deprecated, use PCi_ja.\n",
      "\u001b[0;33mWARNING\u001b[0m: FITSFixedWarning: PC002001= 0. \n",
      "this form of the PCi_ja keyword is deprecated, use PCi_ja. [astropy.wcs.wcs]\n",
      "WARNING:astropy:FITSFixedWarning: PC002001= 0. \n",
      "this form of the PCi_ja keyword is deprecated, use PCi_ja.\n",
      "\u001b[0;33mWARNING\u001b[0m: FITSFixedWarning: PC002002= 1. \n",
      "this form of the PCi_ja keyword is deprecated, use PCi_ja. [astropy.wcs.wcs]\n",
      "WARNING:astropy:FITSFixedWarning: PC002002= 1. \n",
      "this form of the PCi_ja keyword is deprecated, use PCi_ja.\n",
      "\u001b[0;33mWARNING\u001b[0m: FITSFixedWarning: 'datfix' made the change 'Set DATE-OBS to '2012-10-17T21:08:15.738' from MJD-OBS'. [astropy.wcs.wcs]\n",
      "WARNING:astropy:FITSFixedWarning: 'datfix' made the change 'Set DATE-OBS to '2012-10-17T21:08:15.738' from MJD-OBS'.\n",
      "stage6/add_PS1_photometry.py:172: RuntimeWarning: invalid value encountered in log10\n",
      "  phot_table['aperture_sum'].data)\n",
      "INFO:root:HSB_HR_r.fits already exists\n",
      "\u001b[0;33mWARNING\u001b[0m: FITSFixedWarning: PC001001= -1. \n",
      "this form of the PCi_ja keyword is deprecated, use PCi_ja. [astropy.wcs.wcs]\n",
      "WARNING:astropy:FITSFixedWarning: PC001001= -1. \n",
      "this form of the PCi_ja keyword is deprecated, use PCi_ja.\n",
      "\u001b[0;33mWARNING\u001b[0m: FITSFixedWarning: PC001002= 0. \n",
      "this form of the PCi_ja keyword is deprecated, use PCi_ja. [astropy.wcs.wcs]\n",
      "WARNING:astropy:FITSFixedWarning: PC001002= 0. \n",
      "this form of the PCi_ja keyword is deprecated, use PCi_ja.\n",
      "\u001b[0;33mWARNING\u001b[0m: FITSFixedWarning: PC002001= 0. \n",
      "this form of the PCi_ja keyword is deprecated, use PCi_ja. [astropy.wcs.wcs]\n",
      "WARNING:astropy:FITSFixedWarning: PC002001= 0. \n",
      "this form of the PCi_ja keyword is deprecated, use PCi_ja.\n",
      "\u001b[0;33mWARNING\u001b[0m: FITSFixedWarning: PC002002= 1. \n",
      "this form of the PCi_ja keyword is deprecated, use PCi_ja. [astropy.wcs.wcs]\n",
      "WARNING:astropy:FITSFixedWarning: PC002002= 1. \n",
      "this form of the PCi_ja keyword is deprecated, use PCi_ja.\n",
      "\u001b[0;33mWARNING\u001b[0m: FITSFixedWarning: 'datfix' made the change 'Set DATE-OBS to '2013-07-24T14:53:12.055' from MJD-OBS'. [astropy.wcs.wcs]\n",
      "WARNING:astropy:FITSFixedWarning: 'datfix' made the change 'Set DATE-OBS to '2013-07-24T14:53:12.055' from MJD-OBS'.\n",
      "stage6/add_PS1_photometry.py:172: RuntimeWarning: invalid value encountered in log10\n",
      "  phot_table['aperture_sum'].data)\n",
      "INFO:root:HSB_HR_i.fits already exists\n",
      "\u001b[0;33mWARNING\u001b[0m: FITSFixedWarning: PC001001= -1. \n",
      "this form of the PCi_ja keyword is deprecated, use PCi_ja. [astropy.wcs.wcs]\n",
      "WARNING:astropy:FITSFixedWarning: PC001001= -1. \n",
      "this form of the PCi_ja keyword is deprecated, use PCi_ja.\n",
      "\u001b[0;33mWARNING\u001b[0m: FITSFixedWarning: PC001002= 0. \n",
      "this form of the PCi_ja keyword is deprecated, use PCi_ja. [astropy.wcs.wcs]\n",
      "WARNING:astropy:FITSFixedWarning: PC001002= 0. \n",
      "this form of the PCi_ja keyword is deprecated, use PCi_ja.\n",
      "\u001b[0;33mWARNING\u001b[0m: FITSFixedWarning: PC002001= 0. \n",
      "this form of the PCi_ja keyword is deprecated, use PCi_ja. [astropy.wcs.wcs]\n",
      "WARNING:astropy:FITSFixedWarning: PC002001= 0. \n",
      "this form of the PCi_ja keyword is deprecated, use PCi_ja.\n",
      "\u001b[0;33mWARNING\u001b[0m: FITSFixedWarning: PC002002= 1. \n",
      "this form of the PCi_ja keyword is deprecated, use PCi_ja. [astropy.wcs.wcs]\n",
      "WARNING:astropy:FITSFixedWarning: PC002002= 1. \n",
      "this form of the PCi_ja keyword is deprecated, use PCi_ja.\n",
      "\u001b[0;33mWARNING\u001b[0m: FITSFixedWarning: 'datfix' made the change 'Set DATE-OBS to '2013-08-31T22:41:18.384' from MJD-OBS'. [astropy.wcs.wcs]\n",
      "WARNING:astropy:FITSFixedWarning: 'datfix' made the change 'Set DATE-OBS to '2013-08-31T22:41:18.384' from MJD-OBS'.\n",
      "stage6/add_PS1_photometry.py:172: RuntimeWarning: invalid value encountered in log10\n",
      "  phot_table['aperture_sum'].data)\n",
      "INFO:root:HSB_LR: center=(48.1397468101801, 39.31896776337385); size=(0.15022935377384317 deg, 2163 pix)\n",
      "INFO:root:HSB_LR_g.fits already exists\n",
      "\u001b[0;33mWARNING\u001b[0m: FITSFixedWarning: PC001001= -1. \n",
      "this form of the PCi_ja keyword is deprecated, use PCi_ja. [astropy.wcs.wcs]\n",
      "WARNING:astropy:FITSFixedWarning: PC001001= -1. \n",
      "this form of the PCi_ja keyword is deprecated, use PCi_ja.\n",
      "\u001b[0;33mWARNING\u001b[0m: FITSFixedWarning: PC001002= 0. \n",
      "this form of the PCi_ja keyword is deprecated, use PCi_ja. [astropy.wcs.wcs]\n",
      "WARNING:astropy:FITSFixedWarning: PC001002= 0. \n",
      "this form of the PCi_ja keyword is deprecated, use PCi_ja.\n",
      "\u001b[0;33mWARNING\u001b[0m: FITSFixedWarning: PC002001= 0. \n",
      "this form of the PCi_ja keyword is deprecated, use PCi_ja. [astropy.wcs.wcs]\n",
      "WARNING:astropy:FITSFixedWarning: PC002001= 0. \n",
      "this form of the PCi_ja keyword is deprecated, use PCi_ja.\n",
      "\u001b[0;33mWARNING\u001b[0m: FITSFixedWarning: PC002002= 1. \n",
      "this form of the PCi_ja keyword is deprecated, use PCi_ja. [astropy.wcs.wcs]\n",
      "WARNING:astropy:FITSFixedWarning: PC002002= 1. \n",
      "this form of the PCi_ja keyword is deprecated, use PCi_ja.\n",
      "\u001b[0;33mWARNING\u001b[0m: FITSFixedWarning: 'datfix' made the change 'Set DATE-OBS to '2012-10-17T21:08:15.738' from MJD-OBS'. [astropy.wcs.wcs]\n",
      "WARNING:astropy:FITSFixedWarning: 'datfix' made the change 'Set DATE-OBS to '2012-10-17T21:08:15.738' from MJD-OBS'.\n",
      "stage6/add_PS1_photometry.py:172: RuntimeWarning: invalid value encountered in log10\n",
      "  phot_table['aperture_sum'].data)\n",
      "INFO:root:HSB_LR_r.fits already exists\n",
      "\u001b[0;33mWARNING\u001b[0m: FITSFixedWarning: PC001001= -1. \n",
      "this form of the PCi_ja keyword is deprecated, use PCi_ja. [astropy.wcs.wcs]\n",
      "WARNING:astropy:FITSFixedWarning: PC001001= -1. \n",
      "this form of the PCi_ja keyword is deprecated, use PCi_ja.\n",
      "\u001b[0;33mWARNING\u001b[0m: FITSFixedWarning: PC001002= 0. \n",
      "this form of the PCi_ja keyword is deprecated, use PCi_ja. [astropy.wcs.wcs]\n",
      "WARNING:astropy:FITSFixedWarning: PC001002= 0. \n",
      "this form of the PCi_ja keyword is deprecated, use PCi_ja.\n",
      "\u001b[0;33mWARNING\u001b[0m: FITSFixedWarning: PC002001= 0. \n",
      "this form of the PCi_ja keyword is deprecated, use PCi_ja. [astropy.wcs.wcs]\n",
      "WARNING:astropy:FITSFixedWarning: PC002001= 0. \n",
      "this form of the PCi_ja keyword is deprecated, use PCi_ja.\n",
      "\u001b[0;33mWARNING\u001b[0m: FITSFixedWarning: PC002002= 1. \n",
      "this form of the PCi_ja keyword is deprecated, use PCi_ja. [astropy.wcs.wcs]\n",
      "WARNING:astropy:FITSFixedWarning: PC002002= 1. \n",
      "this form of the PCi_ja keyword is deprecated, use PCi_ja.\n",
      "\u001b[0;33mWARNING\u001b[0m: FITSFixedWarning: 'datfix' made the change 'Set DATE-OBS to '2013-07-24T14:53:12.055' from MJD-OBS'. [astropy.wcs.wcs]\n",
      "WARNING:astropy:FITSFixedWarning: 'datfix' made the change 'Set DATE-OBS to '2013-07-24T14:53:12.055' from MJD-OBS'.\n",
      "stage6/add_PS1_photometry.py:172: RuntimeWarning: invalid value encountered in log10\n",
      "  phot_table['aperture_sum'].data)\n",
      "INFO:root:HSB_LR_i.fits already exists\n",
      "\u001b[0;33mWARNING\u001b[0m: FITSFixedWarning: PC001001= -1. \n",
      "this form of the PCi_ja keyword is deprecated, use PCi_ja. [astropy.wcs.wcs]\n",
      "WARNING:astropy:FITSFixedWarning: PC001001= -1. \n",
      "this form of the PCi_ja keyword is deprecated, use PCi_ja.\n",
      "\u001b[0;33mWARNING\u001b[0m: FITSFixedWarning: PC001002= 0. \n",
      "this form of the PCi_ja keyword is deprecated, use PCi_ja. [astropy.wcs.wcs]\n",
      "WARNING:astropy:FITSFixedWarning: PC001002= 0. \n",
      "this form of the PCi_ja keyword is deprecated, use PCi_ja.\n",
      "\u001b[0;33mWARNING\u001b[0m: FITSFixedWarning: PC002001= 0. \n",
      "this form of the PCi_ja keyword is deprecated, use PCi_ja. [astropy.wcs.wcs]\n",
      "WARNING:astropy:FITSFixedWarning: PC002001= 0. \n",
      "this form of the PCi_ja keyword is deprecated, use PCi_ja.\n",
      "\u001b[0;33mWARNING\u001b[0m: FITSFixedWarning: PC002002= 1. \n",
      "this form of the PCi_ja keyword is deprecated, use PCi_ja. [astropy.wcs.wcs]\n",
      "WARNING:astropy:FITSFixedWarning: PC002002= 1. \n",
      "this form of the PCi_ja keyword is deprecated, use PCi_ja.\n",
      "\u001b[0;33mWARNING\u001b[0m: FITSFixedWarning: 'datfix' made the change 'Set DATE-OBS to '2013-08-31T22:41:18.384' from MJD-OBS'. [astropy.wcs.wcs]\n",
      "WARNING:astropy:FITSFixedWarning: 'datfix' made the change 'Set DATE-OBS to '2013-08-31T22:41:18.384' from MJD-OBS'.\n",
      "stage6/add_PS1_photometry.py:172: RuntimeWarning: invalid value encountered in log10\n",
      "  phot_table['aperture_sum'].data)\n",
      "INFO:root:ISB_LR: center=(22.94463265019955, 38.71677791546834); size=(0.14708543075417496 deg, 2118 pix)\n",
      "INFO:root:ISB_LR_g.fits already exists\n",
      "\u001b[0;33mWARNING\u001b[0m: FITSFixedWarning: PC001001= -1. \n",
      "this form of the PCi_ja keyword is deprecated, use PCi_ja. [astropy.wcs.wcs]\n",
      "WARNING:astropy:FITSFixedWarning: PC001001= -1. \n",
      "this form of the PCi_ja keyword is deprecated, use PCi_ja.\n",
      "\u001b[0;33mWARNING\u001b[0m: FITSFixedWarning: PC001002= 0. \n",
      "this form of the PCi_ja keyword is deprecated, use PCi_ja. [astropy.wcs.wcs]\n",
      "WARNING:astropy:FITSFixedWarning: PC001002= 0. \n",
      "this form of the PCi_ja keyword is deprecated, use PCi_ja.\n",
      "\u001b[0;33mWARNING\u001b[0m: FITSFixedWarning: PC002001= 0. \n",
      "this form of the PCi_ja keyword is deprecated, use PCi_ja. [astropy.wcs.wcs]\n",
      "WARNING:astropy:FITSFixedWarning: PC002001= 0. \n",
      "this form of the PCi_ja keyword is deprecated, use PCi_ja.\n",
      "\u001b[0;33mWARNING\u001b[0m: FITSFixedWarning: PC002002= 1. \n",
      "this form of the PCi_ja keyword is deprecated, use PCi_ja. [astropy.wcs.wcs]\n",
      "WARNING:astropy:FITSFixedWarning: PC002002= 1. \n",
      "this form of the PCi_ja keyword is deprecated, use PCi_ja.\n",
      "\u001b[0;33mWARNING\u001b[0m: FITSFixedWarning: 'datfix' made the change 'Set DATE-OBS to '2012-04-07T20:31:55.289' from MJD-OBS'. [astropy.wcs.wcs]\n",
      "WARNING:astropy:FITSFixedWarning: 'datfix' made the change 'Set DATE-OBS to '2012-04-07T20:31:55.289' from MJD-OBS'.\n",
      "stage6/add_PS1_photometry.py:172: RuntimeWarning: invalid value encountered in log10\n",
      "  phot_table['aperture_sum'].data)\n",
      "INFO:root:ISB_LR_r.fits already exists\n",
      "\u001b[0;33mWARNING\u001b[0m: FITSFixedWarning: PC001001= -1. \n",
      "this form of the PCi_ja keyword is deprecated, use PCi_ja. [astropy.wcs.wcs]\n",
      "WARNING:astropy:FITSFixedWarning: PC001001= -1. \n",
      "this form of the PCi_ja keyword is deprecated, use PCi_ja.\n",
      "\u001b[0;33mWARNING\u001b[0m: FITSFixedWarning: PC001002= 0. \n",
      "this form of the PCi_ja keyword is deprecated, use PCi_ja. [astropy.wcs.wcs]\n",
      "WARNING:astropy:FITSFixedWarning: PC001002= 0. \n",
      "this form of the PCi_ja keyword is deprecated, use PCi_ja.\n",
      "\u001b[0;33mWARNING\u001b[0m: FITSFixedWarning: PC002001= 0. \n",
      "this form of the PCi_ja keyword is deprecated, use PCi_ja. [astropy.wcs.wcs]\n",
      "WARNING:astropy:FITSFixedWarning: PC002001= 0. \n",
      "this form of the PCi_ja keyword is deprecated, use PCi_ja.\n",
      "\u001b[0;33mWARNING\u001b[0m: FITSFixedWarning: PC002002= 1. \n",
      "this form of the PCi_ja keyword is deprecated, use PCi_ja. [astropy.wcs.wcs]\n",
      "WARNING:astropy:FITSFixedWarning: PC002002= 1. \n",
      "this form of the PCi_ja keyword is deprecated, use PCi_ja.\n",
      "\u001b[0;33mWARNING\u001b[0m: FITSFixedWarning: 'datfix' made the change 'Set DATE-OBS to '2012-11-01T17:17:13.599' from MJD-OBS'. [astropy.wcs.wcs]\n",
      "WARNING:astropy:FITSFixedWarning: 'datfix' made the change 'Set DATE-OBS to '2012-11-01T17:17:13.599' from MJD-OBS'.\n",
      "stage6/add_PS1_photometry.py:172: RuntimeWarning: invalid value encountered in log10\n",
      "  phot_table['aperture_sum'].data)\n",
      "INFO:root:ISB_LR_i.fits already exists\n",
      "\u001b[0;33mWARNING\u001b[0m: FITSFixedWarning: PC001001= -1. \n",
      "this form of the PCi_ja keyword is deprecated, use PCi_ja. [astropy.wcs.wcs]\n",
      "WARNING:astropy:FITSFixedWarning: PC001001= -1. \n",
      "this form of the PCi_ja keyword is deprecated, use PCi_ja.\n",
      "\u001b[0;33mWARNING\u001b[0m: FITSFixedWarning: PC001002= 0. \n",
      "this form of the PCi_ja keyword is deprecated, use PCi_ja. [astropy.wcs.wcs]\n",
      "WARNING:astropy:FITSFixedWarning: PC001002= 0. \n",
      "this form of the PCi_ja keyword is deprecated, use PCi_ja.\n",
      "\u001b[0;33mWARNING\u001b[0m: FITSFixedWarning: PC002001= 0. \n",
      "this form of the PCi_ja keyword is deprecated, use PCi_ja. [astropy.wcs.wcs]\n",
      "WARNING:astropy:FITSFixedWarning: PC002001= 0. \n",
      "this form of the PCi_ja keyword is deprecated, use PCi_ja.\n",
      "\u001b[0;33mWARNING\u001b[0m: FITSFixedWarning: PC002002= 1. \n",
      "this form of the PCi_ja keyword is deprecated, use PCi_ja. [astropy.wcs.wcs]\n",
      "WARNING:astropy:FITSFixedWarning: PC002002= 1. \n",
      "this form of the PCi_ja keyword is deprecated, use PCi_ja.\n",
      "\u001b[0;33mWARNING\u001b[0m: FITSFixedWarning: 'datfix' made the change 'Set DATE-OBS to '2013-07-18T01:14:20.178' from MJD-OBS'. [astropy.wcs.wcs]\n",
      "WARNING:astropy:FITSFixedWarning: 'datfix' made the change 'Set DATE-OBS to '2013-07-18T01:14:20.178' from MJD-OBS'.\n",
      "stage6/add_PS1_photometry.py:172: RuntimeWarning: invalid value encountered in log10\n",
      "  phot_table['aperture_sum'].data)\n",
      "INFO:root:Savingoutput/WA_2020A1-ifu.fits\n"
     ]
    }
   ],
   "source": [
    "fits_catalogue_filename = os.path.join(output_dir, '{}_{}-ifu_from_xmls.fits'.format(survey, trimester))\n",
    "!export PYTHONPATH='..'; stage6/add_PS1_photometry.py $fits_catalogue_filename"
   ]
  },
  {
   "cell_type": "markdown",
   "metadata": {},
   "source": [
    "The broadband images from PanSTARRS are saved in FITS format in a directory with the same name as the original \"from_xml\" catalog (one file per target per band), as well as PNG previews that illustrate the magnitudes per fibre that go into the final FITS catalogue.\n",
    "This file is named as the original, stripping the \"from_xml\" part.\n",
    "\n",
    "Now it's time for a formal check:"
   ]
  },
  {
   "cell_type": "code",
   "execution_count": 57,
   "metadata": {},
   "outputs": [
    {
     "name": "stdout",
     "output_type": "stream",
     "text": [
      "INFO:root:\n",
      "INFO:root: fitsdiff: 4.0.2\n",
      "INFO:root: a: output/WA_2020A1-ifu_from_xmls.fits\n",
      "INFO:root: b: output/WA_2020A1-ifu.fits\n",
      "INFO:root: HDU(s) not to be compared:\n",
      "INFO:root:  SIM\n",
      "INFO:root: Keyword(s) not to be compared:\n",
      "INFO:root:  CHECKSUM DATASUM DATETIME MAG_G_CM MAG_I_CM MAG_R_CM\n",
      "INFO:root: Table column(s) not to be compared:\n",
      "INFO:root:  APS_FLAG APS_GAND_EBV APS_GAND_ERR APS_GAND_MODE APS_GAND_RED1\n",
      "INFO:root:  APS_GAND_RED2 APS_IFU_MASK APS_IFU_SRC_DEC APS_IFU_SRC_ID\n",
      "INFO:root:  APS_IFU_SRC_RA APS_IFU_TSSL_COVAR APS_IFU_TSSL_MIN_SNR\n",
      "INFO:root:  APS_IFU_TSSL_TARG_SNR APS_IFU_TSSL_TYPE APS_LS_MODE APS_LS_NUM_MC\n",
      "INFO:root:  APS_LS_RES APS_PPXF_DEG_ADD APS_PPXF_DEG_MULT APS_PPXF_MOM\n",
      "INFO:root:  APS_PPXF_NUM_MC APS_PPXF_WL_MAX APS_PPXF_WL_MIN APS_SIGMA\n",
      "INFO:root:  APS_SSP_NUM_CHAIN APS_SSP_NUM_WLKR APS_TEMPL_LIB APS_TEMPL_LIB_NORM\n",
      "INFO:root:  APS_WL_MAX APS_WL_MIN APS_Z COORDCAT GAIA_MAG_BP GAIA_MAG_BP_ERR\n",
      "INFO:root:  GAIA_MAG_G GAIA_MAG_G_ERR GAIA_MAG_RP GAIA_MAG_RP_ERR MAG_G\n",
      "INFO:root:  MAG_G_ERR MAG_I MAG_I_ERR MAG_R MAG_R_ERR OPTCAT OPTCAT_DEC\n",
      "INFO:root:  OPTCAT_DR OPTCAT_ID OPTCAT_MAG_G OPTCAT_MAG_G_ERR OPTCAT_MAG_I\n",
      "INFO:root:  OPTCAT_MAG_I_ERR OPTCAT_MAG_R OPTCAT_MAG_R_ERR OPTCAT_RA PS_DEC\n",
      "INFO:root:  PS_DR PS_ID PS_MAG_G PS_MAG_G_ERR PS_RA SDSS_DEC SDSS_DR SDSS_ID\n",
      "INFO:root:  SDSS_MAG_G SDSS_MAG_G_ERR SDSS_RA TARGCLASS TARGUSE\n",
      "INFO:root: Maximum number of different data values to be reported: 10\n",
      "INFO:root: Relative tolerance: 0.0, Absolute tolerance: 0.0\n",
      "INFO:root:\n",
      "INFO:root:No differences found.\n",
      "INFO:root:\n",
      "INFO:root:output/WA_2020A1-ifu.fits has passed the check against output/WA_2020A1-ifu_from_xmls.fits\n"
     ]
    }
   ],
   "source": [
    "populated_fits_catalogue_filename = os.path.join(output_dir, '{}_{}-ifu.fits'.format(survey, trimester))\n",
    "!export PYTHONPATH='..'; stage6/check_populated_ifu_fits_cat.py $fits_catalogue_filename $populated_fits_catalogue_filename"
   ]
  },
  {
   "cell_type": "markdown",
   "metadata": {},
   "source": [
    "## Stage 7: Creation of the combo FITS catalogue\n",
    "\n",
    "If you had a mixture of LIFU, mIFU, and MOS observations. We will ignore it for the time being."
   ]
  },
  {
   "cell_type": "code",
   "execution_count": 60,
   "metadata": {},
   "outputs": [],
   "source": [
    "# mos_filename = os.path.join(output_dir, '{}_{}-mos.fits'.format(survey, trimester))\n",
    "final_catalogue_filename = populated_fits_catalogue_filename\n",
    "# !export PYTHONPATH='..'; stage7/create_combo_fits_cat.py $mos_filename $populated_fits_catalogue_filename"
   ]
  },
  {
   "cell_type": "markdown",
   "metadata": {},
   "source": [
    "## Stage 8: Submission to WASP of the combo FITS catalogue\n",
    "\n",
    "This is the time to submit your populated FITS catalogue to the [WASP](http://wasp.ast.cam.ac.uk/) in order to get unique `CNAME` identifiers."
   ]
  },
  {
   "cell_type": "markdown",
   "metadata": {},
   "source": [
    "## Stage 9: Finishing the XML files\n",
    "\n",
    "Now we go from FITS to XML format:"
   ]
  },
  {
   "cell_type": "code",
   "execution_count": 61,
   "metadata": {},
   "outputs": [
    {
     "name": "stdout",
     "output_type": "stream",
     "text": [
      "INFO:root:Populating targets for file WA_2020A1-lifu_01.xml\n",
      "INFO:root:\tWriting to output/WA_2020A1-lifu_01.xml\n",
      "INFO:root:Populating targets for file WA_2020A1-lifu_02.xml\n",
      "INFO:root:\tWriting to output/WA_2020A1-lifu_02.xml\n",
      "INFO:root:Populating targets for file WA_2020A1-lifu_03.xml\n",
      "INFO:root:\tWriting to output/WA_2020A1-lifu_03.xml\n"
     ]
    }
   ],
   "source": [
    "!export PYTHONPATH='..'; stage9/fill_xmls_with_fits_info.py $final_catalogue_filename $xml_tgcs_filename"
   ]
  },
  {
   "cell_type": "markdown",
   "metadata": {},
   "source": [
    "## Stage 10: Submission of the final XML files to WASP\n",
    "\n",
    "Just a final check:"
   ]
  },
  {
   "cell_type": "code",
   "execution_count": 65,
   "metadata": {},
   "outputs": [],
   "source": [
    "final_xml_filename = os.path.join(output_dir, '{}_{}-lifu_[0-9][0-9].xml'.format(survey, trimester))\n",
    "!export PYTHONPATH='..'; stage10/plot_data_from_xml.py $final_xml_filename"
   ]
  },
  {
   "cell_type": "markdown",
   "metadata": {},
   "source": [
    "and, after verifying that everything seems to make sense, the files should be packed together into a single tar file and uploaded to the [WASP](http://wasp.ast.cam.ac.uk/)."
   ]
  }
 ],
 "metadata": {
  "kernelspec": {
   "display_name": "Python 3",
   "language": "python",
   "name": "python3"
  },
  "language_info": {
   "codemirror_mode": {
    "name": "ipython",
    "version": 3
   },
   "file_extension": ".py",
   "mimetype": "text/x-python",
   "name": "python",
   "nbconvert_exporter": "python",
   "pygments_lexer": "ipython3",
   "version": "3.7.7"
  }
 },
 "nbformat": 4,
 "nbformat_minor": 4
}
