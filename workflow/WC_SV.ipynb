{
 "cells": [
  {
   "cell_type": "markdown",
   "metadata": {},
   "source": [
    "# WEAVE-Clusers LIFU workflow for SV\n",
    "\n",
    "This is a small example, akin to `TUTORIAL.md`. Please read that file (and `README`) for more details.\n",
    "\n",
    "This notebook is copied from \"WA_example.ipynb\" by Yago Ascasibar and modified for the WC-LIFU SV by SCT."
   ]
  },
  {
   "cell_type": "markdown",
   "metadata": {},
   "source": [
    "## Initialisation\n",
    "\n",
    "To import the different steps, we must add the `ifu` directory (the parent of the `workflow` directory where this Notebook is supposed to live) to the Python path."
   ]
  },
  {
   "cell_type": "code",
   "execution_count": 1,
   "metadata": {},
   "outputs": [
    {
     "name": "stdout",
     "output_type": "stream",
     "text": [
      "['/Users/sctrager/Library/Mobile Documents/com~apple~CloudDocs/WEAVE/SWG/IFUworkflow/ifu/workflow', '/Users/sctrager/Python/anaconda3', '/Users/sctrager/Python/anaconda3/lib/python38.zip', '/Users/sctrager/Python/anaconda3/lib/python3.8', '/Users/sctrager/Python/anaconda3/lib/python3.8/lib-dynload', '', '/Users/sctrager/Python/anaconda3/lib/python3.8/site-packages', '/Users/sctrager/Python/anaconda3/lib/python3.8/site-packages/aeosa', '/Users/sctrager/Python/anaconda3/lib/python3.8/site-packages/IPython/extensions', '/Users/sctrager/.ipython', '..']\n"
     ]
    }
   ],
   "source": [
    "import os\n",
    "import sys\n",
    "import numpy as np\n",
    "from astropy.coordinates import SkyCoord, FK5, ICRS\n",
    "import logging\n",
    "import glob\n",
    "\n",
    "# create logger\n",
    "logger = logging.getLogger()\n",
    "logger.addHandler(logging.StreamHandler(stream=sys.stdout))\n",
    "logger.setLevel(logging.INFO)\n",
    "logger.handlers[0].stream = sys.stdout\n",
    "\n",
    "if '..' not in sys.path:\n",
    "    sys.path.append('..')\n",
    "    print(sys.path)"
   ]
  },
  {
   "cell_type": "markdown",
   "metadata": {},
   "source": [
    "We also specify the path to the `configure` tools (`configure` and `dither`) needed in stage 4."
   ]
  },
  {
   "cell_type": "code",
   "execution_count": 2,
   "metadata": {},
   "outputs": [],
   "source": [
    "path_to_configure_tools = '../../../Configure/configure.app/Contents/MacOS/'"
   ]
  },
  {
   "cell_type": "markdown",
   "metadata": {},
   "source": [
    "Set the location of the template files and the output directory (create the latter if necessary):"
   ]
  },
  {
   "cell_type": "code",
   "execution_count": 3,
   "metadata": {},
   "outputs": [],
   "source": [
    "ifu_driver_template = os.path.join('aux', 'ifu_driver_template.fits')\n",
    "fits_catalogue_template = os.path.join('aux', 'WC_CatalogueTemplate.fits')\n",
    "\n",
    "output_dir = 'output'\n",
    "if not os.path.exists(output_dir):\n",
    "    os.makedirs(output_dir)"
   ]
  },
  {
   "cell_type": "markdown",
   "metadata": {},
   "source": [
    "## Stage 1: Creation of IFU driver catalogue (based on your input)"
   ]
  },
  {
   "cell_type": "markdown",
   "metadata": {},
   "source": [
    "Fill the trimester data, as well as the e-mail addresses of the PI and SWG members:"
   ]
  },
  {
   "cell_type": "code",
   "execution_count": 4,
   "metadata": {},
   "outputs": [],
   "source": [
    "survey = 'WC'\n",
    "trimester = '2021A1'\n",
    "PI_email = 'jalfonso.aguerri@iac.es'\n",
    "PI_first_name = 'J. Alfonso'\n",
    "PI_surname = 'Lopez Aguerri'\n",
    "report_verbosity = 1\n",
    "cc_report = 'sctrager@astro.rug.nl,jalberto@iac.es,daniela.bettoni@inaf.it,Ulrike.Kuchner@nottingham.ac.uk,jairo@iac.es'"
   ]
  },
  {
   "cell_type": "markdown",
   "metadata": {},
   "source": [
    "For the WC LIFU SV observations, we will observe 3 OBs: \n",
    "- the center of Abell 2142 with a 1-hour OB with the standard 3-position dither\n",
    "- an infalling group near Abell 2142 with a 1-hour OB with the standard 3-position dither\n",
    "- the same infalling group near Abell 2142 with a 1-hour OB with the \"-3\"-position dither (to complete the full coverage of the group with the LIFU)"
   ]
  },
  {
   "cell_type": "code",
   "execution_count": 5,
   "metadata": {},
   "outputs": [],
   "source": [
    "data_dict = {}\n",
    "\n",
    "data_dict['TARGSRVY'] = 3*[survey]\n",
    "data_dict['TARGPROG'] = 3*['WCC']\n",
    "\n",
    "data_dict['TARGID'] = ['A2142center','A2142infall','A2142infall']\n",
    "data_dict['TARGNAME'] = ['Abell 2142','Abell 2142A','Abell 2142A']\n",
    "\n",
    "data_dict['TARGPRIO'] = [10.0, 10.0, 10.0]\n",
    "\n",
    "data_dict['PROGTEMP'] = ['41332', '41332', '41332']\n",
    "\n",
    "data_dict['OBSTEMP'] = ['NBDAB', 'NBDAB', 'NBDAB']\n",
    "\n",
    "data_dict['GAIA_RA'] = [239.58333333, 239.71149583, 239.71149583]\n",
    "data_dict['GAIA_DEC'] = [27.23341944, 27.39375833, 27.39375833]\n",
    "\n",
    "data_dict['GAIA_PMRA'] = [np.nan, np.nan, np.nan]\n",
    "data_dict['GAIA_PMDEC'] = [np.nan, np.nan, np.nan]\n",
    "data_dict['GAIA_PARAL'] = [np.nan, np.nan, np.nan]\n",
    "\n",
    "data_dict['IFU_PA_REQUEST'] = [0.0, 0.0, 0.0]\n",
    "\n",
    "data_dict['IFU_DITHER'] = [3, 3, -3]"
   ]
  },
  {
   "cell_type": "markdown",
   "metadata": {},
   "source": [
    "Convert to the Gaia reference frame, ICRS 2015.5 (see https://ingconfluence.ing.iac.es/confluence/display/WEAVEDEV/Precession+to+Gaia+reference+frame)"
   ]
  },
  {
   "cell_type": "code",
   "execution_count": 6,
   "metadata": {},
   "outputs": [],
   "source": [
    "necessary = True  # coordinates are actually J2000\n",
    "# necessary = False  # coordinates are already ICRS\n",
    "\n",
    "if necessary:\n",
    "    original_coords = SkyCoord(ra=data_dict['GAIA_RA'], dec=data_dict['GAIA_DEC'], unit='deg', frame=FK5(equinox='J2000'))\n",
    "    #coords_intermediate_Gaia = original_coords.transform_to(FK5(equinox='J2015.5'))\n",
    "    #coords_Gaia = coords_intermediate_Gaia.transform_to(ICRS())\n",
    "    coords_Gaia = original_coords.transform_to(ICRS())\n",
    "    data_dict['GAIA_RA'] = coords_Gaia.ra.value\n",
    "    data_dict['GAIA_DEC'] = coords_Gaia.dec.value\n",
    "\n",
    "#print(data_dict['GAIA_RA'])\n",
    "#print(data_dict['GAIA_DEC'])\n",
    "    \n",
    "data_dict['GAIA_EPOCH'] = 3*['2015.5']"
   ]
  },
  {
   "cell_type": "markdown",
   "metadata": {},
   "source": [
    "And that's it. No more input is needed from the user.\n",
    "\n",
    "Simply"
   ]
  },
  {
   "cell_type": "code",
   "execution_count": 7,
   "metadata": {},
   "outputs": [
    {
     "data": {
      "text/plain": [
       "'output/WC_2021A1-ifu_driver_cat.fits'"
      ]
     },
     "execution_count": 7,
     "metadata": {},
     "output_type": "execute_result"
    }
   ],
   "source": [
    "from workflow.stage1 import create_ifu_driver_cat\n",
    "\n",
    "driver_catalog_filename = os.path.join(output_dir, '{}_{}-ifu_driver_cat.fits'.format(survey, trimester))\n",
    "\n",
    "create_ifu_driver_cat(ifu_driver_template, data_dict, driver_catalog_filename,\n",
    "                      trimester, PI_email, report_verbosity=report_verbosity,\n",
    "                      cc_report=cc_report, overwrite=True)"
   ]
  },
  {
   "cell_type": "markdown",
   "metadata": {},
   "source": [
    "and check the results:"
   ]
  },
  {
   "cell_type": "code",
   "execution_count": 8,
   "metadata": {},
   "outputs": [
    {
     "name": "stdout",
     "output_type": "stream",
     "text": [
      "output/WC_2021A1-ifu_driver_cat.fits has passed the checks\n",
      "output/WC_2021A1-ifu_driver_cat.fits passes the checks\n"
     ]
    }
   ],
   "source": [
    "from workflow.stage1 import check_ifu_driver_cat\n",
    "from workflow.utils.get_resources import (get_progtemp_file,get_obstemp_file)\n",
    "\n",
    "progtemp_file=os.path.join('aux', 'progtemp.dat')\n",
    "obstemp_file=os.path.join('aux', 'obstemp.dat')\n",
    "\n",
    "if not os.path.exists(progtemp_file):\n",
    "    logging.info('Downloading the progtemp file')\n",
    "    get_progtemp_file(file_path=progtemp_file)\n",
    "\n",
    "if not os.path.exists(obstemp_file):\n",
    "    logging.info('Downloading the obstemp file')\n",
    "    get_obstemp_file(file_path=obstemp_file)\n",
    "    \n",
    "\n",
    "if check_ifu_driver_cat(driver_catalog_filename, template=ifu_driver_template,\n",
    "                         progtemp_file=progtemp_file,\n",
    "                         obstemp_file=obstemp_file):\n",
    "    print('{} passes the checks'.format(driver_catalog_filename))\n",
    "else:\n",
    "    print('{} FAILS the checks'.format(driver_catalog_filename))"
   ]
  },
  {
   "cell_type": "markdown",
   "metadata": {},
   "source": [
    "Now plot the results:"
   ]
  },
  {
   "cell_type": "code",
   "execution_count": 9,
   "metadata": {},
   "outputs": [
    {
     "name": "stdout",
     "output_type": "stream",
     "text": [
      "This plotting tool needs time. If you want to monitor its progress, see the directory which will contain its ouput images.\n"
     ]
    }
   ],
   "source": [
    "from workflow.stage1 import plot_ifu_driver_cat\n",
    "\n",
    "plot_ifu_driver_cat(driver_catalog_filename, output_dir='output',\n",
    "                        aladin_jar='/Applications/Aladin.app/Contents/Resources/Java/Aladin.jar',\n",
    "                        progtemp_file=progtemp_file)"
   ]
  },
  {
   "cell_type": "markdown",
   "metadata": {},
   "source": [
    "A few windows (one per target in `data_dict`) might pop up during the process. Check the images that are saved in the `output` directory."
   ]
  },
  {
   "cell_type": "markdown",
   "metadata": {},
   "source": [
    "## Stage 2: Creation of XML files for the targets in the catalog\n",
    "\n",
    "*Warning*: By default, old XML files will not be overwritten. Instead, new files will be created, continuing the numbering!\n",
    "\n",
    "This is usually not my intention, so I'll `rm output/*.xml`. Please skip or comment the following line if you would like to *append* the current driver catalogue to the existing target list."
   ]
  },
  {
   "cell_type": "code",
   "execution_count": 10,
   "metadata": {},
   "outputs": [
    {
     "name": "stdout",
     "output_type": "stream",
     "text": [
      "rm: No match.\n"
     ]
    }
   ],
   "source": [
    "xml_filename = os.path.join(output_dir, '{}_{}-*.xml'.format(survey, trimester))\n",
    "!rm $xml_filename"
   ]
  },
  {
   "cell_type": "code",
   "execution_count": 11,
   "metadata": {},
   "outputs": [
    {
     "name": "stdout",
     "output_type": "stream",
     "text": [
      "Reading output/WC_2021A1-ifu_driver_cat.fits\n",
      "Processing 3 non-custom dither OBs for LIFU\n",
      "\tWriting to output/WC_2021A1-lifu_01-t.xml\n",
      "\tWriting to output/WC_2021A1-lifu_02-t.xml\n",
      "\tWriting to output/WC_2021A1-lifu_03-t.xml\n",
      "Processing 0 custom dither OBs for LIFU\n",
      "Processing 0 mIFU fields into 0 OBs according to all mode\n"
     ]
    },
    {
     "data": {
      "text/plain": [
       "['output/WC_2021A1-lifu_01-t.xml',\n",
       " 'output/WC_2021A1-lifu_02-t.xml',\n",
       " 'output/WC_2021A1-lifu_03-t.xml']"
      ]
     },
     "execution_count": 11,
     "metadata": {},
     "output_type": "execute_result"
    }
   ],
   "source": [
    "from workflow.stage2 import create_xml_files\n",
    "from workflow.utils.get_resources import get_blank_xml_template\n",
    "\n",
    "xml_template='aux/BlankXMLTemplate.xml'\n",
    "\n",
    "if not os.path.exists(xml_template):\n",
    "        logging.info('Downloading the blank XML template')\n",
    "        get_blank_xml_template(file_path=xml_template)\n",
    "\n",
    "create_xml_files(driver_catalog_filename, output_dir, xml_template,\n",
    "                     progtemp_file=progtemp_file,\n",
    "                     obstemp_file=obstemp_file,\n",
    "                     overwrite=True)\n"
   ]
  },
  {
   "cell_type": "markdown",
   "metadata": {},
   "source": [
    "Note two issues:\n",
    "- the \\<field\\> element (currently) needs to have the RA_d and DEC_d fields input by hand, due to a bug in Configure (v3.0.2). This will be fixed in Configure ASAP.\n",
    "- in this case (PROGTEMP='41332'), the binning_Y field is wrong in the XML -- it should be \"2\", not \"1\". This also should be fixed (currently by hand) -- Luis is on it!"
   ]
  },
  {
   "cell_type": "markdown",
   "metadata": {},
   "source": [
    "## Stage 3: Adding guide and calibration stars to the XML files"
   ]
  },
  {
   "cell_type": "code",
   "execution_count": 12,
   "metadata": {},
   "outputs": [
    {
     "name": "stdout",
     "output_type": "stream",
     "text": [
      "output/WC_2021A1-*-t.xml\n",
      "['output/WC_2021A1-lifu_02-t.xml', 'output/WC_2021A1-lifu_03-t.xml', 'output/WC_2021A1-lifu_01-t.xml']\n",
      "Do not trust on the output of this code by now: This software is great, but the assumed position of the LIFU guide camera must be confirmed\n",
      "825 guide stars have been retrieved for (239.58332953116175, 27.233415952804936)\n",
      "11 guide stars are useful for (239.58332953116175, 27.233415952804936)\n",
      "1 guide stars has been selected for (239.58332953116175, 27.233415952804936) PA = 14.399854389500405 deg\n",
      "Notice that GAIA_DR value for the selected stars is GDR2\n",
      "Requested value for PA has NOT been adopted\n",
      "\tWriting to output/WC_2021A1-lifu_01-tgc.xml\n",
      "Do not trust on the output of this code by now: This software is great, but the assumed position of the LIFU guide camera must be confirmed\n",
      "627 guide stars have been retrieved for (239.7114920447609, 27.393754831677477)\n",
      "13 guide stars are useful for (239.7114920447609, 27.393754831677477)\n",
      "1 guide stars has been selected for (239.7114920447609, 27.393754831677477) PA = -5.46831147443072 deg\n",
      "Notice that GAIA_DR value for the selected stars is GDR2\n",
      "Requested value for PA has NOT been adopted\n",
      "\tWriting to output/WC_2021A1-lifu_02-tgc.xml\n",
      "Do not trust on the output of this code by now: This software is great, but the assumed position of the LIFU guide camera must be confirmed\n",
      "627 guide stars have been retrieved for (239.7114920447609, 27.393754831677477)\n",
      "13 guide stars are useful for (239.7114920447609, 27.393754831677477)\n",
      "1 guide stars has been selected for (239.7114920447609, 27.393754831677477) PA = -5.46831147443072 deg\n",
      "Notice that GAIA_DR value for the selected stars is GDR2\n",
      "Requested value for PA has NOT been adopted\n",
      "\tWriting to output/WC_2021A1-lifu_03-tgc.xml\n"
     ]
    },
    {
     "data": {
      "text/plain": [
       "['output/WC_2021A1-lifu_01-tgc.xml',\n",
       " 'output/WC_2021A1-lifu_02-tgc.xml',\n",
       " 'output/WC_2021A1-lifu_03-tgc.xml']"
      ]
     },
     "execution_count": 12,
     "metadata": {},
     "output_type": "execute_result"
    }
   ],
   "source": [
    "xml_filename = os.path.join(output_dir, '{}_{}-*-t.xml'.format(survey, trimester))\n",
    "print(xml_filename)\n",
    "\n",
    "xml_filename_list = glob.glob(xml_filename)\n",
    "print(xml_filename_list)\n",
    "#!export PYTHONPATH='..'; stage3/add_guide_and_calib_stars.py $xml_filename\n",
    "\n",
    "from workflow.stage3 import add_guide_and_calib_stars\n",
    "\n",
    "add_guide_and_calib_stars(xml_filename_list, output_dir,\n",
    "        lifu_num_guide_stars_request=1,\n",
    "#        num_calib_stars_request=0,\n",
    "        overwrite=True)"
   ]
  },
  {
   "cell_type": "markdown",
   "metadata": {},
   "source": [
    "Now check the images `*tgc-guide_stars.png` in the `output` directory, which contain information about the guide stars and the final position angle adopted for the observation, which might not be the exactly the same as the requested PA."
   ]
  },
  {
   "cell_type": "markdown",
   "metadata": {},
   "source": [
    "## Stage 4: Configuring the XML files\n",
    "\n",
    "Now it is time to run the configure scripts. Note that I haven't been able to run these directly from inside the notebook, so I'm dumping the commands below and then running from the command line by hand. (Sorry, I'm not a Jupyter notebook expert!)"
   ]
  },
  {
   "cell_type": "code",
   "execution_count": 20,
   "metadata": {},
   "outputs": [
    {
     "name": "stdout",
     "output_type": "stream",
     "text": [
      "/Users/sctrager/Library/Mobile\\ Documents/com~apple~CloudDocs/WEAVE/Configure/configure.app/Contents/MacOS/lifu_configure --epoch 2020 -i output/WC_2021A1-lifu_01-tgc.xml -o output/WC_2021A1-lifu_01-tgcs-tmp-orig.xml\n",
      "/Users/sctrager/Library/Mobile\\ Documents/com~apple~CloudDocs/WEAVE/Configure/configure.app/Contents/MacOS/dither -i output/WC_2021A1-lifu_01-tgcs-tmp-orig.xml -o output/WC_2021A1-lifu_01-tgcs-orig.xml\n",
      "xmllint --c14n output/WC_2021A1-lifu_01-tgcs-orig.xml | xmllint --format --encode utf-8 --output output/WC_2021A1-lifu_01-tgcs.xml -\n",
      "/Users/sctrager/Library/Mobile\\ Documents/com~apple~CloudDocs/WEAVE/Configure/configure.app/Contents/MacOS/lifu_configure --epoch 2020 -i output/WC_2021A1-lifu_03-tgc.xml -o output/WC_2021A1-lifu_03-tgcs-tmp-orig.xml\n",
      "/Users/sctrager/Library/Mobile\\ Documents/com~apple~CloudDocs/WEAVE/Configure/configure.app/Contents/MacOS/dither -i output/WC_2021A1-lifu_03-tgcs-tmp-orig.xml -o output/WC_2021A1-lifu_03-tgcs-orig.xml\n",
      "xmllint --c14n output/WC_2021A1-lifu_03-tgcs-orig.xml | xmllint --format --encode utf-8 --output output/WC_2021A1-lifu_03-tgcs.xml -\n",
      "/Users/sctrager/Library/Mobile\\ Documents/com~apple~CloudDocs/WEAVE/Configure/configure.app/Contents/MacOS/lifu_configure --epoch 2020 -i output/WC_2021A1-lifu_02-tgc.xml -o output/WC_2021A1-lifu_02-tgcs-tmp-orig.xml\n",
      "/Users/sctrager/Library/Mobile\\ Documents/com~apple~CloudDocs/WEAVE/Configure/configure.app/Contents/MacOS/dither -i output/WC_2021A1-lifu_02-tgcs-tmp-orig.xml -o output/WC_2021A1-lifu_02-tgcs-orig.xml\n",
      "xmllint --c14n output/WC_2021A1-lifu_02-tgcs-orig.xml | xmllint --format --encode utf-8 --output output/WC_2021A1-lifu_02-tgcs.xml -\n"
     ]
    }
   ],
   "source": [
    "configure_script = os.path.join(path_to_configure_tools, 'lifu_configure')\n",
    "dither_script = os.path.join(path_to_configure_tools, 'dither')\n",
    "\n",
    "xml_tgc_filename = os.path.join(output_dir, '{}_{}-*-tgc.xml'.format(survey, trimester))\n",
    "for filename in glob.glob(xml_tgc_filename):\n",
    "    #print(filename)\n",
    "    tmp_filename = filename[:-4]+'s-tmp-orig.xml'\n",
    "    new_filename = filename[:-4]+'s-orig.xml'\n",
    "    lint_filename = filename[:-4]+'s.xml'\n",
    "    print('/Users/sctrager/Library/Mobile\\ Documents/com~apple~CloudDocs/WEAVE/Configure/configure.app/Contents/MacOS/lifu_configure --epoch 2020 -i {} -o {}'.format(filename,tmp_filename))\n",
    "#    !/Users/sctrager/Library/Mobile\\ Documents/com~apple~CloudDocs/WEAVE/Configure/configure.app/Contents/MacOS/lifu_configure --epoch 2020 -i $filename -o $tmp_filename\n",
    "    print('/Users/sctrager/Library/Mobile\\ Documents/com~apple~CloudDocs/WEAVE/Configure/configure.app/Contents/MacOS/dither -i {} -o {}'.format(tmp_filename,new_filename))\n",
    "#    !/Users/sctrager/Library/Mobile\\ Documents/com~apple~CloudDocs/WEAVE/Configure/configure.app/Contents/MacOS/dither -i $tmp_filename -o $new_filename\n",
    "    print('xmllint --c14n {} | xmllint --format --encode utf-8 --output {} -'.format(new_filename,lint_filename))\n",
    "#    !xmllint --c14n $new_filename | xmllint --format --encode utf-8 --output $lint_filename -"
   ]
  },
  {
   "cell_type": "markdown",
   "metadata": {},
   "source": [
    "## Stage 5: Creating the IFU FITS catalogue"
   ]
  },
  {
   "cell_type": "code",
   "execution_count": 21,
   "metadata": {},
   "outputs": [
    {
     "data": {
      "text/plain": [
       "'output/WC_2021A1-ifu_from_xmls.fits'"
      ]
     },
     "execution_count": 21,
     "metadata": {},
     "output_type": "execute_result"
    }
   ],
   "source": [
    "xml_tgcs_filename = os.path.join(output_dir, '{}_{}-*-tgcs.xml'.format(survey, trimester))\n",
    "#!export PYTHONPATH='..'; stage5/create_ifu_fits_cat.py $fits_catalogue_template $xml_tgcs_filename --cat_nme1 $PI_first_name --cat_nme2 $PI_surname --gaia_dr 2\n",
    "\n",
    "xml_tgcs_filename_list=glob.glob(xml_tgcs_filename)\n",
    "\n",
    "from workflow.stage5 import create_ifu_fits_cat\n",
    "\n",
    "create_ifu_fits_cat(fits_catalogue_template, xml_tgcs_filename_list,\n",
    "                        cat_nme1=PI_first_name, cat_nme2=PI_surname,\n",
    "                        gaia_dr=2, overwrite=True)"
   ]
  },
  {
   "cell_type": "markdown",
   "metadata": {},
   "source": [
    "## Stage 6: Improving the IFU FITS catalogue (optional, but recommended)"
   ]
  },
  {
   "cell_type": "markdown",
   "metadata": {},
   "source": [
    "You can now build integrated-fibre photometry from PanSTARRS-1 using *photometry_from_PS1.py*, which will download and photometer the appropriate PS1 images, or from SDSS using *photometry_from_SDSS.py*, where you first have to download and construct the images (using *SWarp*) via the web interface at [the SDSS DR12 image mosaic download facility](https://dr12.sdss.org/mosaics). If you are using SDSS photometry, make sure that the mosaics that you constructed are in the `output/` directory with names corresponding the object names you used above before running *photometry_from_SDSS.py*."
   ]
  },
  {
   "cell_type": "code",
   "execution_count": 22,
   "metadata": {},
   "outputs": [
    {
     "name": "stdout",
     "output_type": "stream",
     "text": [
      "Downloading PS1 broadmand imaging for output/WC_2021A1-ifu_from_xmls.fits\n",
      "A2142center: center=(239.58305180295804, 27.233703910368988); size=(0.1574197289063072 deg, 2266 pix)\n",
      "A2142center_g.fits already exists\n",
      "FITSFixedWarning: PC001001= -1. \n",
      "this form of the PCi_ja keyword is deprecated, use PCi_ja.\n",
      "FITSFixedWarning: PC001002= 0. \n",
      "this form of the PCi_ja keyword is deprecated, use PCi_ja.\n",
      "FITSFixedWarning: PC002001= 0. \n",
      "this form of the PCi_ja keyword is deprecated, use PCi_ja.\n",
      "FITSFixedWarning: PC002002= 1. \n",
      "this form of the PCi_ja keyword is deprecated, use PCi_ja.\n",
      "FITSFixedWarning: 'datfix' made the change 'Set DATE-OBS to '2012-01-03T12:59:55.286' from MJD-OBS'.\n"
     ]
    },
    {
     "name": "stderr",
     "output_type": "stream",
     "text": [
      "WARNING: FITSFixedWarning: PC001001= -1. \n",
      "this form of the PCi_ja keyword is deprecated, use PCi_ja. [astropy.wcs.wcs]\n",
      "WARNING: FITSFixedWarning: PC001002= 0. \n",
      "this form of the PCi_ja keyword is deprecated, use PCi_ja. [astropy.wcs.wcs]\n",
      "WARNING: FITSFixedWarning: PC002001= 0. \n",
      "this form of the PCi_ja keyword is deprecated, use PCi_ja. [astropy.wcs.wcs]\n",
      "WARNING: FITSFixedWarning: PC002002= 1. \n",
      "this form of the PCi_ja keyword is deprecated, use PCi_ja. [astropy.wcs.wcs]\n",
      "WARNING: FITSFixedWarning: 'datfix' made the change 'Set DATE-OBS to '2012-01-03T12:59:55.286' from MJD-OBS'. [astropy.wcs.wcs]\n",
      "../workflow/stage6/photometry_from_PS1.py:171: RuntimeWarning: invalid value encountered in log10\n",
      "  photo = zero_point - 2.5*np.log10(\n"
     ]
    },
    {
     "name": "stdout",
     "output_type": "stream",
     "text": [
      "A2142center_r.fits already exists\n",
      "FITSFixedWarning: PC001001= -1. \n",
      "this form of the PCi_ja keyword is deprecated, use PCi_ja.\n",
      "FITSFixedWarning: PC001002= 0. \n",
      "this form of the PCi_ja keyword is deprecated, use PCi_ja.\n",
      "FITSFixedWarning: PC002001= 0. \n",
      "this form of the PCi_ja keyword is deprecated, use PCi_ja.\n",
      "FITSFixedWarning: PC002002= 1. \n",
      "this form of the PCi_ja keyword is deprecated, use PCi_ja.\n",
      "FITSFixedWarning: 'datfix' made the change 'Set DATE-OBS to '2011-11-26T01:21:49.515' from MJD-OBS'.\n",
      "trying to change TARGUSE\n"
     ]
    },
    {
     "name": "stderr",
     "output_type": "stream",
     "text": [
      "WARNING: FITSFixedWarning: PC001001= -1. \n",
      "this form of the PCi_ja keyword is deprecated, use PCi_ja. [astropy.wcs.wcs]\n",
      "WARNING: FITSFixedWarning: PC001002= 0. \n",
      "this form of the PCi_ja keyword is deprecated, use PCi_ja. [astropy.wcs.wcs]\n",
      "WARNING: FITSFixedWarning: PC002001= 0. \n",
      "this form of the PCi_ja keyword is deprecated, use PCi_ja. [astropy.wcs.wcs]\n",
      "WARNING: FITSFixedWarning: PC002002= 1. \n",
      "this form of the PCi_ja keyword is deprecated, use PCi_ja. [astropy.wcs.wcs]\n",
      "WARNING: FITSFixedWarning: 'datfix' made the change 'Set DATE-OBS to '2011-11-26T01:21:49.515' from MJD-OBS'. [astropy.wcs.wcs]\n",
      "../workflow/stage6/photometry_from_PS1.py:171: RuntimeWarning: invalid value encountered in log10\n",
      "  photo = zero_point - 2.5*np.log10(\n"
     ]
    },
    {
     "name": "stdout",
     "output_type": "stream",
     "text": [
      "A2142center_i.fits already exists\n",
      "FITSFixedWarning: PC001001= -1. \n",
      "this form of the PCi_ja keyword is deprecated, use PCi_ja.\n",
      "FITSFixedWarning: PC001002= 0. \n",
      "this form of the PCi_ja keyword is deprecated, use PCi_ja.\n",
      "FITSFixedWarning: PC002001= 0. \n",
      "this form of the PCi_ja keyword is deprecated, use PCi_ja.\n",
      "FITSFixedWarning: PC002002= 1. \n",
      "this form of the PCi_ja keyword is deprecated, use PCi_ja.\n",
      "FITSFixedWarning: 'datfix' made the change 'Set DATE-OBS to '2013-02-18T13:04:38.763' from MJD-OBS'.\n"
     ]
    },
    {
     "name": "stderr",
     "output_type": "stream",
     "text": [
      "WARNING: FITSFixedWarning: PC001001= -1. \n",
      "this form of the PCi_ja keyword is deprecated, use PCi_ja. [astropy.wcs.wcs]\n",
      "WARNING: FITSFixedWarning: PC001002= 0. \n",
      "this form of the PCi_ja keyword is deprecated, use PCi_ja. [astropy.wcs.wcs]\n",
      "WARNING: FITSFixedWarning: PC002001= 0. \n",
      "this form of the PCi_ja keyword is deprecated, use PCi_ja. [astropy.wcs.wcs]\n",
      "WARNING: FITSFixedWarning: PC002002= 1. \n",
      "this form of the PCi_ja keyword is deprecated, use PCi_ja. [astropy.wcs.wcs]\n",
      "WARNING: FITSFixedWarning: 'datfix' made the change 'Set DATE-OBS to '2013-02-18T13:04:38.763' from MJD-OBS'. [astropy.wcs.wcs]\n",
      "../workflow/stage6/photometry_from_PS1.py:171: RuntimeWarning: invalid value encountered in log10\n",
      "  photo = zero_point - 2.5*np.log10(\n"
     ]
    },
    {
     "name": "stdout",
     "output_type": "stream",
     "text": [
      "A2142infall: center=(239.71121707141714, 27.393726637326047); size=(0.15256299414647254 deg, 2196 pix)\n",
      "A2142infall_g.fits already exists\n",
      "FITSFixedWarning: PC001001= -1. \n",
      "this form of the PCi_ja keyword is deprecated, use PCi_ja.\n",
      "FITSFixedWarning: PC001002= 0. \n",
      "this form of the PCi_ja keyword is deprecated, use PCi_ja.\n",
      "FITSFixedWarning: PC002001= 0. \n",
      "this form of the PCi_ja keyword is deprecated, use PCi_ja.\n",
      "FITSFixedWarning: PC002002= 1. \n",
      "this form of the PCi_ja keyword is deprecated, use PCi_ja.\n",
      "FITSFixedWarning: 'datfix' made the change 'Set DATE-OBS to '2012-02-20T08:26:40.679' from MJD-OBS'.\n"
     ]
    },
    {
     "name": "stderr",
     "output_type": "stream",
     "text": [
      "WARNING: FITSFixedWarning: PC001001= -1. \n",
      "this form of the PCi_ja keyword is deprecated, use PCi_ja. [astropy.wcs.wcs]\n",
      "WARNING: FITSFixedWarning: PC001002= 0. \n",
      "this form of the PCi_ja keyword is deprecated, use PCi_ja. [astropy.wcs.wcs]\n",
      "WARNING: FITSFixedWarning: PC002001= 0. \n",
      "this form of the PCi_ja keyword is deprecated, use PCi_ja. [astropy.wcs.wcs]\n",
      "WARNING: FITSFixedWarning: PC002002= 1. \n",
      "this form of the PCi_ja keyword is deprecated, use PCi_ja. [astropy.wcs.wcs]\n",
      "WARNING: FITSFixedWarning: 'datfix' made the change 'Set DATE-OBS to '2012-02-20T08:26:40.679' from MJD-OBS'. [astropy.wcs.wcs]\n",
      "../workflow/stage6/photometry_from_PS1.py:171: RuntimeWarning: invalid value encountered in log10\n",
      "  photo = zero_point - 2.5*np.log10(\n"
     ]
    },
    {
     "name": "stdout",
     "output_type": "stream",
     "text": [
      "A2142infall_r.fits already exists\n",
      "FITSFixedWarning: PC001001= -1. \n",
      "this form of the PCi_ja keyword is deprecated, use PCi_ja.\n",
      "FITSFixedWarning: PC001002= 0. \n",
      "this form of the PCi_ja keyword is deprecated, use PCi_ja.\n",
      "FITSFixedWarning: PC002001= 0. \n",
      "this form of the PCi_ja keyword is deprecated, use PCi_ja.\n",
      "FITSFixedWarning: PC002002= 1. \n",
      "this form of the PCi_ja keyword is deprecated, use PCi_ja.\n",
      "FITSFixedWarning: 'datfix' made the change 'Set DATE-OBS to '2011-11-17T21:59:06.349' from MJD-OBS'.\n"
     ]
    },
    {
     "name": "stderr",
     "output_type": "stream",
     "text": [
      "WARNING: FITSFixedWarning: PC001001= -1. \n",
      "this form of the PCi_ja keyword is deprecated, use PCi_ja. [astropy.wcs.wcs]\n",
      "WARNING: FITSFixedWarning: PC001002= 0. \n",
      "this form of the PCi_ja keyword is deprecated, use PCi_ja. [astropy.wcs.wcs]\n",
      "WARNING: FITSFixedWarning: PC002001= 0. \n",
      "this form of the PCi_ja keyword is deprecated, use PCi_ja. [astropy.wcs.wcs]\n",
      "WARNING: FITSFixedWarning: PC002002= 1. \n",
      "this form of the PCi_ja keyword is deprecated, use PCi_ja. [astropy.wcs.wcs]\n",
      "WARNING: FITSFixedWarning: 'datfix' made the change 'Set DATE-OBS to '2011-11-17T21:59:06.349' from MJD-OBS'. [astropy.wcs.wcs]\n"
     ]
    },
    {
     "name": "stdout",
     "output_type": "stream",
     "text": [
      "trying to change TARGUSE\n"
     ]
    },
    {
     "name": "stderr",
     "output_type": "stream",
     "text": [
      "../workflow/stage6/photometry_from_PS1.py:171: RuntimeWarning: invalid value encountered in log10\n",
      "  photo = zero_point - 2.5*np.log10(\n"
     ]
    },
    {
     "name": "stdout",
     "output_type": "stream",
     "text": [
      "A2142infall_i.fits already exists\n",
      "FITSFixedWarning: PC001001= -1. \n",
      "this form of the PCi_ja keyword is deprecated, use PCi_ja.\n",
      "FITSFixedWarning: PC001002= 0. \n",
      "this form of the PCi_ja keyword is deprecated, use PCi_ja.\n",
      "FITSFixedWarning: PC002001= 0. \n",
      "this form of the PCi_ja keyword is deprecated, use PCi_ja.\n",
      "FITSFixedWarning: PC002002= 1. \n",
      "this form of the PCi_ja keyword is deprecated, use PCi_ja.\n",
      "FITSFixedWarning: 'datfix' made the change 'Set DATE-OBS to '2011-12-26T03:44:50.703' from MJD-OBS'.\n"
     ]
    },
    {
     "name": "stderr",
     "output_type": "stream",
     "text": [
      "WARNING: FITSFixedWarning: PC001001= -1. \n",
      "this form of the PCi_ja keyword is deprecated, use PCi_ja. [astropy.wcs.wcs]\n",
      "WARNING: FITSFixedWarning: PC001002= 0. \n",
      "this form of the PCi_ja keyword is deprecated, use PCi_ja. [astropy.wcs.wcs]\n",
      "WARNING: FITSFixedWarning: PC002001= 0. \n",
      "this form of the PCi_ja keyword is deprecated, use PCi_ja. [astropy.wcs.wcs]\n",
      "WARNING: FITSFixedWarning: PC002002= 1. \n",
      "this form of the PCi_ja keyword is deprecated, use PCi_ja. [astropy.wcs.wcs]\n",
      "WARNING: FITSFixedWarning: 'datfix' made the change 'Set DATE-OBS to '2011-12-26T03:44:50.703' from MJD-OBS'. [astropy.wcs.wcs]\n",
      "../workflow/stage6/photometry_from_PS1.py:171: RuntimeWarning: invalid value encountered in log10\n",
      "  photo = zero_point - 2.5*np.log10(\n"
     ]
    },
    {
     "name": "stdout",
     "output_type": "stream",
     "text": [
      "Savingoutput/WC_2021A1-ifu.fits\n"
     ]
    }
   ],
   "source": [
    "fits_catalogue_filename = os.path.join(output_dir, '{}_{}-ifu_from_xmls.fits'.format(survey, trimester))\n",
    "#!export PYTHONPATH='..'; stage6/add_PS1_photometry.py $fits_catalogue_filename\n",
    "#!setenv PYTHONPATH='${PYTHONPATH}:..'; stage6/add_PS1_photometry.py $fits_catalogue_filename\n",
    "\n",
    "from workflow.stage6 import photometry_from_PS1\n",
    "\n",
    "photometry_from_PS1(fits_catalogue_filename)\n"
   ]
  },
  {
   "cell_type": "markdown",
   "metadata": {},
   "source": [
    "The broadband images from PanSTARRS are saved in FITS format in a directory with the same name as the original \"from_xml\" catalog (one file per target per band), as well as PNG previews that illustrate the magnitudes per fibre that go into the final FITS catalogue.\n",
    "This file is named as the original, stripping the \"from_xml\" part.\n",
    "\n",
    "Now it's time for a formal check:"
   ]
  },
  {
   "cell_type": "code",
   "execution_count": 23,
   "metadata": {},
   "outputs": [
    {
     "name": "stdout",
     "output_type": "stream",
     "text": [
      "\n",
      " fitsdiff: 4.0.2\n",
      " a: output/WC_2021A1-ifu_from_xmls.fits\n",
      " b: output/WC_2021A1-ifu.fits\n",
      " HDU(s) not to be compared:\n",
      "  SIM\n",
      " Keyword(s) not to be compared:\n",
      "  CHECKSUM DATASUM DATETIME MAG_G_CM MAG_I_CM MAG_R_CM\n",
      " Table column(s) not to be compared:\n",
      "  APS_FLAG APS_GAND_EBV APS_GAND_ERR APS_GAND_MODE APS_GAND_RED1\n",
      "  APS_GAND_RED2 APS_IFU_MASK APS_IFU_SRC_DEC APS_IFU_SRC_ID\n",
      "  APS_IFU_SRC_RA APS_IFU_TSSL_COVAR APS_IFU_TSSL_MIN_SNR\n",
      "  APS_IFU_TSSL_TARG_SNR APS_IFU_TSSL_TYPE APS_LS_MODE APS_LS_NUM_MC\n",
      "  APS_LS_RES APS_PPXF_DEG_ADD APS_PPXF_DEG_MULT APS_PPXF_MOM\n",
      "  APS_PPXF_NUM_MC APS_PPXF_WL_MAX APS_PPXF_WL_MIN APS_SIGMA\n",
      "  APS_SSP_NUM_CHAIN APS_SSP_NUM_WLKR APS_TEMPL_LIB APS_TEMPL_LIB_NORM\n",
      "  APS_WL_MAX APS_WL_MIN APS_Z GAIA_MAG_BP GAIA_MAG_BP_ERR GAIA_MAG_G\n",
      "  GAIA_MAG_G_ERR GAIA_MAG_RP GAIA_MAG_RP_ERR MAG_G MAG_G_ERR MAG_I\n",
      "  MAG_I_ERR MAG_R MAG_R_ERR PHOTOZCAT PHOTOZCAT_DEC PHOTOZCAT_DR\n",
      "  PHOTOZCAT_ID PHOTOZCAT_RA PHOTOZCAT_Z PHOTOZCAT_Z_ERR SDSS_DEC\n",
      "  SDSS_DR SDSS_FIBRE_MAG_G SDSS_FIBRE_MAG_G_ERR SDSS_FIBRE_MAG_I\n",
      "  SDSS_FIBRE_MAG_I_ERR SDSS_FIBRE_MAG_R SDSS_FIBRE_MAG_R_ERR SDSS_ID\n",
      "  SDSS_PHOTO_Z SDSS_PHOTO_Z_ERR SDSS_RA TARGCLASS TARGUSE\n",
      " Maximum number of different data values to be reported: 10\n",
      " Relative tolerance: 0.0, Absolute tolerance: 0.0\n",
      "\n",
      "No differences found.\n",
      "\n",
      "output/WC_2021A1-ifu.fits has passed the check against output/WC_2021A1-ifu_from_xmls.fits\n"
     ]
    },
    {
     "data": {
      "text/plain": [
       "True"
      ]
     },
     "execution_count": 23,
     "metadata": {},
     "output_type": "execute_result"
    }
   ],
   "source": [
    "populated_fits_catalogue_filename = os.path.join(output_dir, '{}_{}-ifu.fits'.format(survey, trimester))\n",
    "#!export PYTHONPATH='..'; stage6/check_populated_ifu_fits_cat.py $fits_catalogue_filename $populated_fits_catalogue_filename\n",
    "\n",
    "from workflow.stage6 import check_populated_ifu_fits_cat\n",
    "check_populated_ifu_fits_cat(fits_catalogue_filename, populated_fits_catalogue_filename)"
   ]
  },
  {
   "cell_type": "markdown",
   "metadata": {},
   "source": [
    "## Stage 7: Creation of the combo FITS catalogue\n",
    "\n",
    "If you had a mixture of LIFU, mIFU, and MOS observations. We will ignore it for the time being."
   ]
  },
  {
   "cell_type": "code",
   "execution_count": 24,
   "metadata": {},
   "outputs": [],
   "source": [
    "# mos_filename = os.path.join(output_dir, '{}_{}-mos.fits'.format(survey, trimester))\n",
    "final_catalogue_filename = populated_fits_catalogue_filename\n",
    "# !export PYTHONPATH='..'; stage7/create_combo_fits_cat.py $mos_filename $populated_fits_catalogue_filename"
   ]
  },
  {
   "cell_type": "markdown",
   "metadata": {},
   "source": [
    "## Stage 8: Submission to WASP of the combo FITS catalogue\n",
    "\n",
    "This is the time to submit your populated FITS catalogue to the [WASP](http://wasp.ast.cam.ac.uk/) in order to get unique `CNAME` identifiers."
   ]
  },
  {
   "cell_type": "markdown",
   "metadata": {},
   "source": [
    "## Stage 9: Finishing the XML files\n",
    "\n",
    "Now we go from FITS to XML format:"
   ]
  },
  {
   "cell_type": "code",
   "execution_count": 25,
   "metadata": {},
   "outputs": [
    {
     "name": "stdout",
     "output_type": "stream",
     "text": [
      "Skipping file because it already exists: output/WC_2021A1-lifu_01.xml\n",
      "Skipping file because it already exists: output/WC_2021A1-lifu_02.xml\n",
      "Skipping file because it already exists: output/WC_2021A1-lifu_03.xml\n"
     ]
    },
    {
     "data": {
      "text/plain": [
       "['output/WC_2021A1-lifu_01.xml',\n",
       " 'output/WC_2021A1-lifu_02.xml',\n",
       " 'output/WC_2021A1-lifu_03.xml']"
      ]
     },
     "execution_count": 25,
     "metadata": {},
     "output_type": "execute_result"
    }
   ],
   "source": [
    "#!export PYTHONPATH='..'; stage9/fill_xmls_with_fits_info.py $final_catalogue_filename $xml_tgcs_filename\n",
    "\n",
    "from workflow.stage9 import fill_xmls_with_fits_info\n",
    "fill_xmls_with_fits_info(final_catalogue_filename, xml_tgcs_filename_list, output_dir,\n",
    "                             overwrite=False)"
   ]
  },
  {
   "cell_type": "markdown",
   "metadata": {},
   "source": [
    "## Stage 10: Submission of the final XML files to WASP\n",
    "\n",
    "Just a final check:"
   ]
  },
  {
   "cell_type": "code",
   "execution_count": 26,
   "metadata": {},
   "outputs": [
    {
     "name": "stdout",
     "output_type": "stream",
     "text": [
      "starting plots for file output/WC_2021A1-lifu_01.pdf\n",
      "\tplotting pointings of output/WC_2021A1-lifu_01.xml with color\n",
      "\tplotting pointings of output/WC_2021A1-lifu_01.xml in black and white\n",
      "\tplotting targuse of output/WC_2021A1-lifu_01.xml\n",
      "\tplotting targclass of output/WC_2021A1-lifu_01.xml\n",
      "\tplotting mag_g of output/WC_2021A1-lifu_01.xml\n",
      "\tplotting mag_r of output/WC_2021A1-lifu_01.xml\n",
      "\tplotting mag_i of output/WC_2021A1-lifu_01.xml\n",
      "\tplotting mag_gg of output/WC_2021A1-lifu_01.xml\n",
      "\tplotting mag_bp of output/WC_2021A1-lifu_01.xml\n",
      "\tplotting mag_rp of output/WC_2021A1-lifu_01.xml\n",
      "starting plots for file output/WC_2021A1-lifu_03.pdf\n",
      "\tplotting pointings of output/WC_2021A1-lifu_03.xml with color\n",
      "\tplotting pointings of output/WC_2021A1-lifu_03.xml in black and white\n",
      "\tplotting targuse of output/WC_2021A1-lifu_03.xml\n",
      "\tplotting targclass of output/WC_2021A1-lifu_03.xml\n",
      "\tplotting mag_g of output/WC_2021A1-lifu_03.xml\n",
      "\tplotting mag_r of output/WC_2021A1-lifu_03.xml\n",
      "\tplotting mag_i of output/WC_2021A1-lifu_03.xml\n",
      "\tplotting mag_gg of output/WC_2021A1-lifu_03.xml\n",
      "\tplotting mag_bp of output/WC_2021A1-lifu_03.xml\n",
      "\tplotting mag_rp of output/WC_2021A1-lifu_03.xml\n",
      "starting plots for file output/WC_2021A1-lifu_02.pdf\n",
      "\tplotting pointings of output/WC_2021A1-lifu_02.xml with color\n",
      "\tplotting pointings of output/WC_2021A1-lifu_02.xml in black and white\n",
      "\tplotting targuse of output/WC_2021A1-lifu_02.xml\n",
      "\tplotting targclass of output/WC_2021A1-lifu_02.xml\n",
      "\tplotting mag_g of output/WC_2021A1-lifu_02.xml\n",
      "\tplotting mag_r of output/WC_2021A1-lifu_02.xml\n",
      "\tplotting mag_i of output/WC_2021A1-lifu_02.xml\n",
      "\tplotting mag_gg of output/WC_2021A1-lifu_02.xml\n",
      "\tplotting mag_bp of output/WC_2021A1-lifu_02.xml\n",
      "\tplotting mag_rp of output/WC_2021A1-lifu_02.xml\n"
     ]
    }
   ],
   "source": [
    "final_xml_filename = os.path.join(output_dir, '{}_{}-lifu_[0-9][0-9].xml'.format(survey, trimester))\n",
    "#!export PYTHONPATH='..'; stage10/plot_data_from_xml.py $final_xml_filename\n",
    "\n",
    "final_xml_filename_list=glob.glob(final_xml_filename)\n",
    "\n",
    "from workflow.stage10 import plot_data_from_xml\n",
    "\n",
    "for final_xml_file in final_xml_filename_list:\n",
    "    plot_data_from_xml(final_xml_file, output_dir=output_dir, verbose=False)"
   ]
  },
  {
   "cell_type": "markdown",
   "metadata": {},
   "source": [
    "and, after verifying that everything seems to make sense, the files should be packed together into a single tar file and uploaded to the [WASP](http://wasp.ast.cam.ac.uk/)."
   ]
  }
 ],
 "metadata": {
  "kernelspec": {
   "display_name": "Python 3",
   "language": "python",
   "name": "python3"
  },
  "language_info": {
   "codemirror_mode": {
    "name": "ipython",
    "version": 3
   },
   "file_extension": ".py",
   "mimetype": "text/x-python",
   "name": "python",
   "nbconvert_exporter": "python",
   "pygments_lexer": "ipython3",
   "version": "3.8.5"
  }
 },
 "nbformat": 4,
 "nbformat_minor": 4
}
