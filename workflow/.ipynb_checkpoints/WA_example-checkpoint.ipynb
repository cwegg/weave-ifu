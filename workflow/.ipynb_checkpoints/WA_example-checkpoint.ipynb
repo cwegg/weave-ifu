{
 "cells": [
  {
   "cell_type": "markdown",
   "metadata": {},
   "source": [
    "# Example of IFU workflow based on WEAVE-APERTIF\n",
    "\n",
    "This is a small example, akin to `TUTORIAL.md`. Please read that file (and `README`) for more details."
   ]
  },
  {
   "cell_type": "markdown",
   "metadata": {},
   "source": [
    "## Initialisation\n",
    "\n",
    "To import the different steps, we must add the `ifu` directory (the parent of the `workflow` directory where this Notebook is supposed to live) to the Python path.\n",
    "\n",
    "*Disclaimer:* I have cheated in all but the very first step and used the shell commands in the tutorial rather than properly calling the Python functions. Even worse, I had to set the environment variable `PYTHONPATH` before every invocation, and even more worse than even worser, I just did it with the `export` command, assuming a `bash` Unix shell. I nominate my self for the *Quick and Dirty Hack of the Day Award* ;^D"
   ]
  },
  {
   "cell_type": "code",
   "execution_count": 1,
   "metadata": {},
   "outputs": [
    {
     "name": "stdout",
     "output_type": "stream",
     "text": [
      "['/home/yago/work/science/WEAVE/rehearsals/ifu/workflow', '/home/yago/misc/anaconda3/lib/python37.zip', '/home/yago/misc/anaconda3/lib/python3.7', '/home/yago/misc/anaconda3/lib/python3.7/lib-dynload', '', '/home/yago/misc/anaconda3/lib/python3.7/site-packages', '/home/yago/misc/anaconda3/lib/python3.7/site-packages/IPython/extensions', '/home/yago/.ipython', '..']\n"
     ]
    }
   ],
   "source": [
    "import sys\n",
    "\n",
    "if '..' not in sys.path:\n",
    "    sys.path.append('..')\n",
    "    print(sys.path)"
   ]
  },
  {
   "cell_type": "markdown",
   "metadata": {},
   "source": [
    "We also specify the path to the `configure` tools (`configure` and `dither`) needed in stage 4.\n",
    "I consider that hard-coding it this way is peanuts in comparison to the above ;^D"
   ]
  },
  {
   "cell_type": "code",
   "execution_count": 1,
   "metadata": {},
   "outputs": [
    {
     "name": "stdout",
     "output_type": "stream",
     "text": [
      "['/home/yago/work/science/WEAVE/rehearsals/ifu/workflow', '/home/yago/misc/anaconda3/lib/python37.zip', '/home/yago/misc/anaconda3/lib/python3.7', '/home/yago/misc/anaconda3/lib/python3.7/lib-dynload', '', '/home/yago/misc/anaconda3/lib/python3.7/site-packages', '/home/yago/misc/anaconda3/lib/python3.7/site-packages/IPython/extensions', '/home/yago/.ipython', '..']\n"
     ]
    }
   ],
   "source": [
    "path_to_configure_tools = '../../configure_3.0.2/'"
   ]
  },
  {
   "cell_type": "markdown",
   "metadata": {},
   "source": [
    "Set the location of the template files and the output directory (create the latter if necessary):"
   ]
  },
  {
   "cell_type": "code",
   "execution_count": 23,
   "metadata": {},
   "outputs": [],
   "source": [
    "ifu_driver_template = os.path.join('aux', 'ifu_driver_template.fits')\n",
    "fits_catalogue_template = os.path.join('aux', 'WA_CatalogueTemplate.fits')\n",
    "\n",
    "output_dir = 'output'\n",
    "if not os.path.exists(output_dir):\n",
    "    os.makedirs(output_dir)"
   ]
  },
  {
   "cell_type": "markdown",
   "metadata": {},
   "source": [
    "## Stage 1: Creation of IFU driver catalogue"
   ]
  },
  {
   "cell_type": "code",
   "execution_count": 2,
   "metadata": {},
   "outputs": [],
   "source": [
    "import os\n",
    "import numpy as np\n",
    "\n",
    "from workflow.stage1 import create_ifu_driver_cat"
   ]
  },
  {
   "cell_type": "markdown",
   "metadata": {},
   "source": [
    "Fill the trimester data, as well as the e-mail addresses of the IP and SWG members:"
   ]
  },
  {
   "cell_type": "code",
   "execution_count": 17,
   "metadata": {},
   "outputs": [],
   "source": [
    "survey = 'WA'\n",
    "trimester = '2020A1'\n",
    "PI_email = 'a@domain.com'\n",
    "PI_first_name = 'Name'\n",
    "PI_surname = 'Surname'\n",
    "report_verbosity = 1\n",
    "cc_report = 'b@domain.com,c@domain.com'"
   ]
  },
  {
   "cell_type": "markdown",
   "metadata": {},
   "source": [
    "Fill the data of the desired targets. For this example, we chose 4 WA galaxies:\n",
    "- HSB_HR is a high surface brightness galaxy, observed at high spectral resolution.\n",
    "- HSB_LR is the same galaxy at low spectral resolution.\n",
    "- LSB_LR is a low surface brightness galaxy at low spectral resolution.\n",
    "- BWT_LR is a bad weather target at low spectral resolution."
   ]
  },
  {
   "cell_type": "code",
   "execution_count": 18,
   "metadata": {},
   "outputs": [],
   "source": [
    "data_dict = {}\n",
    "\n",
    "data_dict['TARGSRVY'] = 3*[survey]\n",
    "data_dict['TARGPROG'] = ['WA_HR', 'WA_LR', 'WA_LR']\n",
    "\n",
    "data_dict['TARGID'] = ['HSB_HR', 'HSB_LR', 'ISB_LR']\n",
    "data_dict['TARGNAME'] = ['PSZ1_nameHSB', 'PSZ1_nameHSB', 'PSZ1_nameISB']\n",
    "\n",
    "data_dict['TARGPRIO'] = [10.0, 10.0, 10.0]\n",
    "\n",
    "data_dict['PROGTEMP'] = ['61331', '41331', '41331']\n",
    "\n",
    "data_dict['OBSTEMP'] = ['NBCEB', 'NBCEC', 'NBCEC']\n",
    "\n",
    "data_dict['GAIA_RA'] = [48.14007743, 48.14007743, 22.94501069]\n",
    "data_dict['GAIA_DEC'] = [39.31920434, 39.31920434, 38.71704016]\n",
    "data_dict['GAIA_EPOCH'] = [2015.5, 2015.5, 2015.5]\n",
    "\n",
    "data_dict['GAIA_PMRA'] = [np.nan, np.nan, np.nan]\n",
    "data_dict['GAIA_PMDEC'] = [np.nan, np.nan, np.nan]\n",
    "data_dict['GAIA_PARAL'] = [np.nan, np.nan, np.nan]\n",
    "\n",
    "data_dict['IFU_PA_REQUEST'] = [0.0, 0.0, 0.0]\n",
    "\n",
    "data_dict['IFU_DITHER'] = [3, 3, 3]"
   ]
  },
  {
   "cell_type": "markdown",
   "metadata": {},
   "source": [
    "And that's it. No more input is needed from the user.\n",
    "\n",
    "Simply"
   ]
  },
  {
   "cell_type": "code",
   "execution_count": 24,
   "metadata": {},
   "outputs": [
    {
     "data": {
      "text/plain": [
       "'output/WA_2020A1-ifu_driver_cat.fits'"
      ]
     },
     "execution_count": 24,
     "metadata": {},
     "output_type": "execute_result"
    }
   ],
   "source": [
    "driver_catalog_filename = os.path.join(output_dir, '{}_{}-ifu_driver_cat.fits'.format(survey, trimester))\n",
    "\n",
    "create_ifu_driver_cat(ifu_driver_template, data_dict, driver_catalog_filename,\n",
    "                      trimester, PI_email, report_verbosity=report_verbosity,\n",
    "                      cc_report=cc_report, overwrite=True)"
   ]
  },
  {
   "cell_type": "markdown",
   "metadata": {},
   "source": [
    "and check the results:"
   ]
  },
  {
   "cell_type": "code",
   "execution_count": 8,
   "metadata": {},
   "outputs": [
    {
     "name": "stdout",
     "output_type": "stream",
     "text": [
      "INFO:root:output/WA_2020A1-ifu_driver_cat.fits has passed the checks\n"
     ]
    }
   ],
   "source": [
    "!export PYTHONPATH='..'; stage1/check_ifu_driver_cat.py $driver_catalog_filename"
   ]
  },
  {
   "cell_type": "code",
   "execution_count": 9,
   "metadata": {},
   "outputs": [
    {
     "name": "stdout",
     "output_type": "stream",
     "text": [
      "INFO:root:This plotting tool needs time. If you want to monitor its progress, see the directory which will contain its ouput images.\n"
     ]
    }
   ],
   "source": [
    "!export PYTHONPATH='..'; stage1/plot_ifu_driver_cat.py $driver_catalog_filename"
   ]
  },
  {
   "cell_type": "markdown",
   "metadata": {},
   "source": [
    "A few windows (one per target in `data_dict`) might pop up during the process. Check the images that are saved in the `output` directory."
   ]
  },
  {
   "cell_type": "markdown",
   "metadata": {},
   "source": [
    "## Stage 2: Creation of *additional* XML files for the targets in the catalog\n",
    "\n",
    "*Warning*: Old XML files will not be overwritten. Instead, new files will be created, continuing the numbering!\n",
    "\n",
    "`rm output/*.xml` if this is not your intention."
   ]
  },
  {
   "cell_type": "code",
   "execution_count": 10,
   "metadata": {},
   "outputs": [
    {
     "name": "stdout",
     "output_type": "stream",
     "text": [
      "INFO:root:Reading output/WA_2020A1-ifu_driver_cat.fits\n",
      "INFO:root:Processing 3 non-custom dither OBs for LIFU\n",
      "INFO:root:\tWriting to output/WA_2020A1-lifu_01-t.xml\n",
      "INFO:root:\tWriting to output/WA_2020A1-lifu_02-t.xml\n",
      "INFO:root:\tWriting to output/WA_2020A1-lifu_03-t.xml\n",
      "INFO:root:Processing 0 custom dither OBs for LIFU\n",
      "INFO:root:Processing 0 mIFU fields into 0 OBs according to all mode\n"
     ]
    }
   ],
   "source": [
    "!export PYTHONPATH='..'; stage2/create_xml_files.py $driver_catalog_filename"
   ]
  },
  {
   "cell_type": "markdown",
   "metadata": {},
   "source": [
    "## Stage 3: Adding guide and calibration stars to the XML files"
   ]
  },
  {
   "cell_type": "code",
   "execution_count": 11,
   "metadata": {},
   "outputs": [
    {
     "name": "stdout",
     "output_type": "stream",
     "text": [
      "CRITICAL:root:Do not trust on the output of this code by now: This software is great, but the assumed position of the LIFU guide camera must be confirmed\n",
      "INFO:root:2207 guide stars have been retrieved for (48.14007743, 39.31920434)\n",
      "INFO:root:25 guide stars are useful for (48.14007743, 39.31920434)\n",
      "INFO:root:1 guide stars has been selected for (48.14007743, 39.31920434) PA = 3.385967816579466 deg\n",
      "INFO:root:Notice that GAIA_DR value for the selected stars is GDR2\n",
      "INFO:root:Requested value for PA has NOT been adopted\n",
      "INFO:root:\tWriting to output/WA_2020A1-lifu_01-tgc.xml\n",
      "CRITICAL:root:Do not trust on the output of this code by now: This software is great, but the assumed position of the LIFU guide camera must be confirmed\n",
      "INFO:root:2207 guide stars have been retrieved for (48.14007743, 39.31920434)\n",
      "INFO:root:25 guide stars are useful for (48.14007743, 39.31920434)\n",
      "INFO:root:1 guide stars has been selected for (48.14007743, 39.31920434) PA = 3.385967816579466 deg\n",
      "INFO:root:Notice that GAIA_DR value for the selected stars is GDR2\n",
      "INFO:root:Requested value for PA has NOT been adopted\n",
      "INFO:root:\tWriting to output/WA_2020A1-lifu_02-tgc.xml\n",
      "CRITICAL:root:Do not trust on the output of this code by now: This software is great, but the assumed position of the LIFU guide camera must be confirmed\n",
      "INFO:root:2479 guide stars have been retrieved for (22.94501069, 38.71704016)\n",
      "INFO:root:31 guide stars are useful for (22.94501069, 38.71704016)\n",
      "INFO:root:1 guide stars has been selected for (22.94501069, 38.71704016) PA = 0.0 deg\n",
      "INFO:root:Notice that GAIA_DR value for the selected stars is GDR2\n",
      "INFO:root:\tWriting to output/WA_2020A1-lifu_03-tgc.xml\n"
     ]
    }
   ],
   "source": [
    "xml_filename = os.path.join(output_dir, '{}_{}-*-t.xml'.format(survey, trimester))\n",
    "!export PYTHONPATH='..'; stage3/add_guide_and_calib_stars.py $xml_filename"
   ]
  },
  {
   "cell_type": "markdown",
   "metadata": {},
   "source": [
    "Now check the images `*tgc-guide_stars.png` in the `output` directory, which contain information about the guide stars and the final position angle adopted for the observation, which might not be the exactly the same as the requested PA."
   ]
  },
  {
   "cell_type": "markdown",
   "metadata": {},
   "source": [
    "## Stage 4: Configuring the XML files"
   ]
  },
  {
   "cell_type": "code",
   "execution_count": 26,
   "metadata": {},
   "outputs": [
    {
     "name": "stdout",
     "output_type": "stream",
     "text": [
      "output/WA_2020A1-lifu_01-tgc.xml\n",
      "output/WA_2020A1-lifu_02-tgc.xml\n",
      "output/WA_2020A1-lifu_03-tgc.xml\n"
     ]
    }
   ],
   "source": [
    "configure_script = os.path.join(path_to_configure_tools, 'lifu_configure')\n",
    "dither_script = os.path.join(path_to_configure_tools, 'dither')\n",
    "\n",
    "from glob import glob\n",
    "\n",
    "xml_tgc_filename = os.path.join(output_dir, '{}_{}-*-tgc.xml'.format(survey, trimester))\n",
    "for filename in glob(xml_tgc_filename):\n",
    "    print(filename)\n",
    "    tmp_filename = filename[:-4]+'s-tmp-orig.xml'\n",
    "    new_filename = filename[:-4]+'s-orig.xml'\n",
    "    lint_filename = filename[:-4]+'s.xml'\n",
    "    !export PYTHONPATH='..'; $configure_script --epoch 2020 -i $filename -o $tmp_filename;\n",
    "    !export PYTHONPATH='..'; $dither_script -i $tmp_filename -o $new_filename"
   ]
  },
  {
   "cell_type": "markdown",
   "metadata": {},
   "source": [
    "## Stage 5: Creation the IFU FITS catalogue"
   ]
  },
  {
   "cell_type": "markdown",
   "metadata": {},
   "source": [
    "## Stage 6: Improving the IFU FITS catalogue (optional, but recommended)"
   ]
  },
  {
   "cell_type": "code",
   "execution_count": 25,
   "metadata": {},
   "outputs": [
    {
     "name": "stdout",
     "output_type": "stream",
     "text": [
      "Traceback (most recent call last):\n",
      "  File \"stage5/create_ifu_fits_cat.py\", line 409, in <module>\n",
      "    sim_ext=args.sim_ext, overwrite=args.overwrite)\n",
      "  File \"stage5/create_ifu_fits_cat.py\", line 294, in create_ifu_fits_cat\n",
      "    xml_datamver = get_datamver_from_xmls(xml_filename_list)\n",
      "  File \"/home/yago/work/science/WEAVE/rehearsals/ifu/workflow/utils/get_data_from_xmls.py\", line 599, in get_datamver_from_xmls\n",
      "    for xml_file in xml_filename_list]\n",
      "  File \"/home/yago/work/science/WEAVE/rehearsals/ifu/workflow/utils/get_data_from_xmls.py\", line 599, in <listcomp>\n",
      "    for xml_file in xml_filename_list]\n",
      "  File \"/home/yago/work/science/WEAVE/rehearsals/ifu/workflow/utils/get_data_from_xmls.py\", line 438, in _get_attribute_in_simple_element_of_xml_file\n",
      "    dom = _minidom.parse(xml_file)\n",
      "  File \"/home/yago/misc/anaconda3/lib/python3.7/xml/dom/minidom.py\", line 1958, in parse\n",
      "    return expatbuilder.parse(file)\n",
      "  File \"/home/yago/misc/anaconda3/lib/python3.7/xml/dom/expatbuilder.py\", line 910, in parse\n",
      "    with open(file, 'rb') as fp:\n",
      "FileNotFoundError: [Errno 2] No such file or directory: 'output/WA_2020A1-*-tgcs.xml'\n"
     ]
    }
   ],
   "source": [
    "xml_tgcs_filename = os.path.join(output_dir, '{}_{}-*-tgcs.xml'.format(survey, trimester))\n",
    "!export PYTHONPATH='..'; stage5/create_ifu_fits_cat.py $fits_catalogue_template $xml_tgcs_filename --cat_nme1 $PI_first_name --cat_nme2 $PI_surname --gaia_dr 2"
   ]
  },
  {
   "cell_type": "code",
   "execution_count": null,
   "metadata": {},
   "outputs": [],
   "source": []
  }
 ],
 "metadata": {
  "kernelspec": {
   "display_name": "Python 3",
   "language": "python",
   "name": "python3"
  },
  "language_info": {
   "codemirror_mode": {
    "name": "ipython",
    "version": 3
   },
   "file_extension": ".py",
   "mimetype": "text/x-python",
   "name": "python",
   "nbconvert_exporter": "python",
   "pygments_lexer": "ipython3",
   "version": "3.7.7"
  }
 },
 "nbformat": 4,
 "nbformat_minor": 4
}
